{
 "cells": [
  {
   "cell_type": "markdown",
   "id": "2806fd37",
   "metadata": {},
   "source": [
    "# PREDICTION OF HATREDNESS IN ELECTION CANDIDTATES"
   ]
  },
  {
   "cell_type": "code",
   "execution_count": 49,
   "id": "b65fae00",
   "metadata": {},
   "outputs": [
    {
     "name": "stdout",
     "output_type": "stream",
     "text": [
      "Requirement already satisfied: textstat in c:\\users\\hp\\anaconda3\\lib\\site-packages (0.7.3)\n",
      "Requirement already satisfied: pyphen in c:\\users\\hp\\anaconda3\\lib\\site-packages (from textstat) (0.14.0)\n"
     ]
    }
   ],
   "source": [
    "!pip install textstat"
   ]
  },
  {
   "cell_type": "markdown",
   "id": "91baced0",
   "metadata": {},
   "source": [
    "# Importing All Libraries and Packages Required"
   ]
  },
  {
   "cell_type": "code",
   "execution_count": 1,
   "id": "0c06bb8d",
   "metadata": {},
   "outputs": [],
   "source": [
    "import pandas as panda\n",
    "from nltk.tokenize import word_tokenize\n",
    "from nltk.corpus import stopwords\n",
    "from nltk.stem.porter import *\n",
    "import string\n",
    "import nltk\n",
    "from sklearn.feature_extraction.text import CountVectorizer\n",
    "from sklearn.feature_extraction.text import TfidfVectorizer\n",
    "from sklearn.metrics import confusion_matrix\n",
    "import seaborn\n",
    "from textstat.textstat import *\n",
    "from sklearn.linear_model import LogisticRegression\n",
    "from sklearn.model_selection import train_test_split\n",
    "from sklearn.metrics import f1_score\n",
    "from sklearn.feature_selection import SelectFromModel\n",
    "from sklearn.metrics import classification_report\n",
    "from sklearn.metrics import accuracy_score\n",
    "from sklearn.svm import LinearSVC\n",
    "from sklearn.ensemble import RandomForestClassifier\n",
    "from sklearn.naive_bayes import GaussianNB\n",
    "import numpy as np\n",
    "from nltk.sentiment.vader import SentimentIntensityAnalyzer as VS\n",
    "import warnings\n",
    "warnings.simplefilter(action='ignore', category=FutureWarning)\n",
    "%matplotlib inline"
   ]
  },
  {
   "cell_type": "markdown",
   "id": "8c06e824",
   "metadata": {},
   "source": [
    "# Loading the Dataset(Lizz_Truss(One member))"
   ]
  },
  {
   "cell_type": "code",
   "execution_count": 2,
   "id": "674d8799",
   "metadata": {},
   "outputs": [
    {
     "data": {
      "text/html": [
       "<div>\n",
       "<style scoped>\n",
       "    .dataframe tbody tr th:only-of-type {\n",
       "        vertical-align: middle;\n",
       "    }\n",
       "\n",
       "    .dataframe tbody tr th {\n",
       "        vertical-align: top;\n",
       "    }\n",
       "\n",
       "    .dataframe thead th {\n",
       "        text-align: right;\n",
       "    }\n",
       "</style>\n",
       "<table border=\"1\" class=\"dataframe\">\n",
       "  <thead>\n",
       "    <tr style=\"text-align: right;\">\n",
       "      <th></th>\n",
       "      <th>S.No</th>\n",
       "      <th>Commentor Name</th>\n",
       "      <th>Comment</th>\n",
       "      <th>Dislike</th>\n",
       "      <th>Insulting</th>\n",
       "      <th>Neutral</th>\n",
       "      <th>Supporting</th>\n",
       "      <th>Meaningless</th>\n",
       "      <th>Class</th>\n",
       "    </tr>\n",
       "  </thead>\n",
       "  <tbody>\n",
       "    <tr>\n",
       "      <th>0</th>\n",
       "      <td>1</td>\n",
       "      <td>Steven Maddock</td>\n",
       "      <td>First and last speech</td>\n",
       "      <td>NaN</td>\n",
       "      <td>NaN</td>\n",
       "      <td>1.0</td>\n",
       "      <td>NaN</td>\n",
       "      <td>NaN</td>\n",
       "      <td>1</td>\n",
       "    </tr>\n",
       "    <tr>\n",
       "      <th>1</th>\n",
       "      <td>2</td>\n",
       "      <td>max jelley</td>\n",
       "      <td>It would be soporificƒ??but those reforms made...</td>\n",
       "      <td>NaN</td>\n",
       "      <td>1.0</td>\n",
       "      <td>NaN</td>\n",
       "      <td>NaN</td>\n",
       "      <td>NaN</td>\n",
       "      <td>0</td>\n",
       "    </tr>\n",
       "    <tr>\n",
       "      <th>2</th>\n",
       "      <td>3</td>\n",
       "      <td>Iceman naz</td>\n",
       "      <td>Talk about reading from a script</td>\n",
       "      <td>NaN</td>\n",
       "      <td>1.0</td>\n",
       "      <td>NaN</td>\n",
       "      <td>NaN</td>\n",
       "      <td>NaN</td>\n",
       "      <td>0</td>\n",
       "    </tr>\n",
       "    <tr>\n",
       "      <th>3</th>\n",
       "      <td>4</td>\n",
       "      <td>Billy Leen</td>\n",
       "      <td>This didnt age well</td>\n",
       "      <td>NaN</td>\n",
       "      <td>1.0</td>\n",
       "      <td>NaN</td>\n",
       "      <td>NaN</td>\n",
       "      <td>NaN</td>\n",
       "      <td>0</td>\n",
       "    </tr>\n",
       "    <tr>\n",
       "      <th>4</th>\n",
       "      <td>5</td>\n",
       "      <td>Selin YŽñlmaz</td>\n",
       "      <td>look my sweetheart .</td>\n",
       "      <td>NaN</td>\n",
       "      <td>NaN</td>\n",
       "      <td>NaN</td>\n",
       "      <td>1.0</td>\n",
       "      <td>NaN</td>\n",
       "      <td>1</td>\n",
       "    </tr>\n",
       "    <tr>\n",
       "      <th>...</th>\n",
       "      <td>...</td>\n",
       "      <td>...</td>\n",
       "      <td>...</td>\n",
       "      <td>...</td>\n",
       "      <td>...</td>\n",
       "      <td>...</td>\n",
       "      <td>...</td>\n",
       "      <td>...</td>\n",
       "      <td>...</td>\n",
       "    </tr>\n",
       "    <tr>\n",
       "      <th>694</th>\n",
       "      <td>695</td>\n",
       "      <td>sean smith ronsen</td>\n",
       "      <td>She will do wonderful as prime Minister may Go...</td>\n",
       "      <td>NaN</td>\n",
       "      <td>NaN</td>\n",
       "      <td>NaN</td>\n",
       "      <td>1.0</td>\n",
       "      <td>NaN</td>\n",
       "      <td>1</td>\n",
       "    </tr>\n",
       "    <tr>\n",
       "      <th>695</th>\n",
       "      <td>696</td>\n",
       "      <td>Liam Hackett</td>\n",
       "      <td>If he existed he wouldn&amp;#39;t be blessing her....</td>\n",
       "      <td>NaN</td>\n",
       "      <td>NaN</td>\n",
       "      <td>1.0</td>\n",
       "      <td>NaN</td>\n",
       "      <td>NaN</td>\n",
       "      <td>1</td>\n",
       "    </tr>\n",
       "    <tr>\n",
       "      <th>696</th>\n",
       "      <td>697</td>\n",
       "      <td>iiBus</td>\n",
       "      <td>Did she?</td>\n",
       "      <td>NaN</td>\n",
       "      <td>NaN</td>\n",
       "      <td>1.0</td>\n",
       "      <td>NaN</td>\n",
       "      <td>NaN</td>\n",
       "      <td>1</td>\n",
       "    </tr>\n",
       "    <tr>\n",
       "      <th>697</th>\n",
       "      <td>698</td>\n",
       "      <td>S L</td>\n",
       "      <td>Oh dear. Is anyone else hearing Jen from IT Cr...</td>\n",
       "      <td>NaN</td>\n",
       "      <td>NaN</td>\n",
       "      <td>NaN</td>\n",
       "      <td>NaN</td>\n",
       "      <td>1.0</td>\n",
       "      <td>1</td>\n",
       "    </tr>\n",
       "    <tr>\n",
       "      <th>698</th>\n",
       "      <td>699</td>\n",
       "      <td>Horizon 14</td>\n",
       "      <td>Inchallah amen ðŸ™ðŸ»</td>\n",
       "      <td>NaN</td>\n",
       "      <td>NaN</td>\n",
       "      <td>NaN</td>\n",
       "      <td>NaN</td>\n",
       "      <td>1.0</td>\n",
       "      <td>1</td>\n",
       "    </tr>\n",
       "  </tbody>\n",
       "</table>\n",
       "<p>699 rows × 9 columns</p>\n",
       "</div>"
      ],
      "text/plain": [
       "     S.No     Commentor Name  \\\n",
       "0       1     Steven Maddock   \n",
       "1       2         max jelley   \n",
       "2       3         Iceman naz   \n",
       "3       4         Billy Leen   \n",
       "4       5      Selin YŽñlmaz   \n",
       "..    ...                ...   \n",
       "694   695  sean smith ronsen   \n",
       "695   696       Liam Hackett   \n",
       "696   697              iiBus   \n",
       "697   698                S L   \n",
       "698   699         Horizon 14   \n",
       "\n",
       "                                               Comment  Dislike  Insulting  \\\n",
       "0                                First and last speech      NaN        NaN   \n",
       "1    It would be soporificƒ??but those reforms made...      NaN        1.0   \n",
       "2                     Talk about reading from a script      NaN        1.0   \n",
       "3                                  This didnt age well      NaN        1.0   \n",
       "4                                 look my sweetheart .      NaN        NaN   \n",
       "..                                                 ...      ...        ...   \n",
       "694  She will do wonderful as prime Minister may Go...      NaN        NaN   \n",
       "695  If he existed he wouldn&#39;t be blessing her....      NaN        NaN   \n",
       "696                                           Did she?      NaN        NaN   \n",
       "697  Oh dear. Is anyone else hearing Jen from IT Cr...      NaN        NaN   \n",
       "698                            Inchallah amen ðŸ™ðŸ»      NaN        NaN   \n",
       "\n",
       "     Neutral  Supporting  Meaningless  Class  \n",
       "0        1.0         NaN          NaN      1  \n",
       "1        NaN         NaN          NaN      0  \n",
       "2        NaN         NaN          NaN      0  \n",
       "3        NaN         NaN          NaN      0  \n",
       "4        NaN         1.0          NaN      1  \n",
       "..       ...         ...          ...    ...  \n",
       "694      NaN         1.0          NaN      1  \n",
       "695      1.0         NaN          NaN      1  \n",
       "696      1.0         NaN          NaN      1  \n",
       "697      NaN         NaN          1.0      1  \n",
       "698      NaN         NaN          1.0      1  \n",
       "\n",
       "[699 rows x 9 columns]"
      ]
     },
     "execution_count": 2,
     "metadata": {},
     "output_type": "execute_result"
    }
   ],
   "source": [
    "dataset = panda.read_csv('F:/Mini Project/Lizz_Truss_Fin.csv')\n",
    "df1=dataset.head(699)\n",
    "df1"
   ]
  },
  {
   "cell_type": "code",
   "execution_count": 3,
   "id": "4470bc85",
   "metadata": {},
   "outputs": [
    {
     "data": {
      "text/html": [
       "<div>\n",
       "<style scoped>\n",
       "    .dataframe tbody tr th:only-of-type {\n",
       "        vertical-align: middle;\n",
       "    }\n",
       "\n",
       "    .dataframe tbody tr th {\n",
       "        vertical-align: top;\n",
       "    }\n",
       "\n",
       "    .dataframe thead th {\n",
       "        text-align: right;\n",
       "    }\n",
       "</style>\n",
       "<table border=\"1\" class=\"dataframe\">\n",
       "  <thead>\n",
       "    <tr style=\"text-align: right;\">\n",
       "      <th></th>\n",
       "      <th>S.No</th>\n",
       "      <th>Commentor Name</th>\n",
       "      <th>Comment</th>\n",
       "      <th>Dislike</th>\n",
       "      <th>Insulting</th>\n",
       "      <th>Neutral</th>\n",
       "      <th>Supporting</th>\n",
       "      <th>Meaningless</th>\n",
       "      <th>Class</th>\n",
       "    </tr>\n",
       "  </thead>\n",
       "  <tbody>\n",
       "    <tr>\n",
       "      <th>0</th>\n",
       "      <td>1</td>\n",
       "      <td>Steven Maddock</td>\n",
       "      <td>First and last speech</td>\n",
       "      <td>0.0</td>\n",
       "      <td>0.0</td>\n",
       "      <td>1.0</td>\n",
       "      <td>0.0</td>\n",
       "      <td>0.0</td>\n",
       "      <td>1</td>\n",
       "    </tr>\n",
       "    <tr>\n",
       "      <th>1</th>\n",
       "      <td>2</td>\n",
       "      <td>max jelley</td>\n",
       "      <td>It would be soporificƒ??but those reforms made...</td>\n",
       "      <td>0.0</td>\n",
       "      <td>1.0</td>\n",
       "      <td>0.0</td>\n",
       "      <td>0.0</td>\n",
       "      <td>0.0</td>\n",
       "      <td>0</td>\n",
       "    </tr>\n",
       "    <tr>\n",
       "      <th>2</th>\n",
       "      <td>3</td>\n",
       "      <td>Iceman naz</td>\n",
       "      <td>Talk about reading from a script</td>\n",
       "      <td>0.0</td>\n",
       "      <td>1.0</td>\n",
       "      <td>0.0</td>\n",
       "      <td>0.0</td>\n",
       "      <td>0.0</td>\n",
       "      <td>0</td>\n",
       "    </tr>\n",
       "    <tr>\n",
       "      <th>3</th>\n",
       "      <td>4</td>\n",
       "      <td>Billy Leen</td>\n",
       "      <td>This didnt age well</td>\n",
       "      <td>0.0</td>\n",
       "      <td>1.0</td>\n",
       "      <td>0.0</td>\n",
       "      <td>0.0</td>\n",
       "      <td>0.0</td>\n",
       "      <td>0</td>\n",
       "    </tr>\n",
       "    <tr>\n",
       "      <th>4</th>\n",
       "      <td>5</td>\n",
       "      <td>Selin YŽñlmaz</td>\n",
       "      <td>look my sweetheart .</td>\n",
       "      <td>0.0</td>\n",
       "      <td>0.0</td>\n",
       "      <td>0.0</td>\n",
       "      <td>1.0</td>\n",
       "      <td>0.0</td>\n",
       "      <td>1</td>\n",
       "    </tr>\n",
       "    <tr>\n",
       "      <th>...</th>\n",
       "      <td>...</td>\n",
       "      <td>...</td>\n",
       "      <td>...</td>\n",
       "      <td>...</td>\n",
       "      <td>...</td>\n",
       "      <td>...</td>\n",
       "      <td>...</td>\n",
       "      <td>...</td>\n",
       "      <td>...</td>\n",
       "    </tr>\n",
       "    <tr>\n",
       "      <th>694</th>\n",
       "      <td>695</td>\n",
       "      <td>sean smith ronsen</td>\n",
       "      <td>She will do wonderful as prime Minister may Go...</td>\n",
       "      <td>0.0</td>\n",
       "      <td>0.0</td>\n",
       "      <td>0.0</td>\n",
       "      <td>1.0</td>\n",
       "      <td>0.0</td>\n",
       "      <td>1</td>\n",
       "    </tr>\n",
       "    <tr>\n",
       "      <th>695</th>\n",
       "      <td>696</td>\n",
       "      <td>Liam Hackett</td>\n",
       "      <td>If he existed he wouldn&amp;#39;t be blessing her....</td>\n",
       "      <td>0.0</td>\n",
       "      <td>0.0</td>\n",
       "      <td>1.0</td>\n",
       "      <td>0.0</td>\n",
       "      <td>0.0</td>\n",
       "      <td>1</td>\n",
       "    </tr>\n",
       "    <tr>\n",
       "      <th>696</th>\n",
       "      <td>697</td>\n",
       "      <td>iiBus</td>\n",
       "      <td>Did she?</td>\n",
       "      <td>0.0</td>\n",
       "      <td>0.0</td>\n",
       "      <td>1.0</td>\n",
       "      <td>0.0</td>\n",
       "      <td>0.0</td>\n",
       "      <td>1</td>\n",
       "    </tr>\n",
       "    <tr>\n",
       "      <th>697</th>\n",
       "      <td>698</td>\n",
       "      <td>S L</td>\n",
       "      <td>Oh dear. Is anyone else hearing Jen from IT Cr...</td>\n",
       "      <td>0.0</td>\n",
       "      <td>0.0</td>\n",
       "      <td>0.0</td>\n",
       "      <td>0.0</td>\n",
       "      <td>1.0</td>\n",
       "      <td>1</td>\n",
       "    </tr>\n",
       "    <tr>\n",
       "      <th>698</th>\n",
       "      <td>699</td>\n",
       "      <td>Horizon 14</td>\n",
       "      <td>Inchallah amen ðŸ™ðŸ»</td>\n",
       "      <td>0.0</td>\n",
       "      <td>0.0</td>\n",
       "      <td>0.0</td>\n",
       "      <td>0.0</td>\n",
       "      <td>1.0</td>\n",
       "      <td>1</td>\n",
       "    </tr>\n",
       "  </tbody>\n",
       "</table>\n",
       "<p>699 rows × 9 columns</p>\n",
       "</div>"
      ],
      "text/plain": [
       "     S.No     Commentor Name  \\\n",
       "0       1     Steven Maddock   \n",
       "1       2         max jelley   \n",
       "2       3         Iceman naz   \n",
       "3       4         Billy Leen   \n",
       "4       5      Selin YŽñlmaz   \n",
       "..    ...                ...   \n",
       "694   695  sean smith ronsen   \n",
       "695   696       Liam Hackett   \n",
       "696   697              iiBus   \n",
       "697   698                S L   \n",
       "698   699         Horizon 14   \n",
       "\n",
       "                                               Comment  Dislike  Insulting  \\\n",
       "0                                First and last speech      0.0        0.0   \n",
       "1    It would be soporificƒ??but those reforms made...      0.0        1.0   \n",
       "2                     Talk about reading from a script      0.0        1.0   \n",
       "3                                  This didnt age well      0.0        1.0   \n",
       "4                                 look my sweetheart .      0.0        0.0   \n",
       "..                                                 ...      ...        ...   \n",
       "694  She will do wonderful as prime Minister may Go...      0.0        0.0   \n",
       "695  If he existed he wouldn&#39;t be blessing her....      0.0        0.0   \n",
       "696                                           Did she?      0.0        0.0   \n",
       "697  Oh dear. Is anyone else hearing Jen from IT Cr...      0.0        0.0   \n",
       "698                            Inchallah amen ðŸ™ðŸ»      0.0        0.0   \n",
       "\n",
       "     Neutral  Supporting  Meaningless  Class  \n",
       "0        1.0         0.0          0.0      1  \n",
       "1        0.0         0.0          0.0      0  \n",
       "2        0.0         0.0          0.0      0  \n",
       "3        0.0         0.0          0.0      0  \n",
       "4        0.0         1.0          0.0      1  \n",
       "..       ...         ...          ...    ...  \n",
       "694      0.0         1.0          0.0      1  \n",
       "695      1.0         0.0          0.0      1  \n",
       "696      1.0         0.0          0.0      1  \n",
       "697      0.0         0.0          1.0      1  \n",
       "698      0.0         0.0          1.0      1  \n",
       "\n",
       "[699 rows x 9 columns]"
      ]
     },
     "execution_count": 3,
     "metadata": {},
     "output_type": "execute_result"
    }
   ],
   "source": [
    "df2 = dataset.head(699).fillna(0)\n",
    "df2"
   ]
  },
  {
   "cell_type": "code",
   "execution_count": 4,
   "id": "5a9ae4bd",
   "metadata": {},
   "outputs": [
    {
     "name": "stdout",
     "output_type": "stream",
     "text": [
      "   S.No  Commentor Name                                            Comment  \\\n",
      "0     1  Steven Maddock                              First and last speech   \n",
      "1     2      max jelley  It would be soporificƒ??but those reforms made...   \n",
      "2     3      Iceman naz                   Talk about reading from a script   \n",
      "3     4      Billy Leen                                This didnt age well   \n",
      "4     5   Selin YŽñlmaz                               look my sweetheart .   \n",
      "\n",
      "   Dislike  Insulting  Neutral  Supporting  Meaningless  Class  CommentLength  \n",
      "0      0.0        0.0      1.0         0.0          0.0      1             21  \n",
      "1      0.0        1.0      0.0         0.0          0.0      0             82  \n",
      "2      0.0        1.0      0.0         0.0          0.0      0             32  \n",
      "3      0.0        1.0      0.0         0.0          0.0      0             19  \n",
      "4      0.0        0.0      0.0         1.0          0.0      1             20  \n"
     ]
    }
   ],
   "source": [
    "df2['CommentLength'] = df2['Comment'].apply(len)\n",
    "print(df2.head())"
   ]
  },
  {
   "cell_type": "code",
   "execution_count": 5,
   "id": "73eb8c5b",
   "metadata": {},
   "outputs": [
    {
     "data": {
      "text/html": [
       "<div>\n",
       "<style scoped>\n",
       "    .dataframe tbody tr th:only-of-type {\n",
       "        vertical-align: middle;\n",
       "    }\n",
       "\n",
       "    .dataframe tbody tr th {\n",
       "        vertical-align: top;\n",
       "    }\n",
       "\n",
       "    .dataframe thead th {\n",
       "        text-align: right;\n",
       "    }\n",
       "</style>\n",
       "<table border=\"1\" class=\"dataframe\">\n",
       "  <thead>\n",
       "    <tr style=\"text-align: right;\">\n",
       "      <th></th>\n",
       "      <th>S.No</th>\n",
       "      <th>Commentor Name</th>\n",
       "      <th>Comment</th>\n",
       "      <th>Dislike</th>\n",
       "      <th>Insulting</th>\n",
       "      <th>Neutral</th>\n",
       "      <th>Supporting</th>\n",
       "      <th>Meaningless</th>\n",
       "      <th>Class</th>\n",
       "      <th>CommentLength</th>\n",
       "    </tr>\n",
       "  </thead>\n",
       "  <tbody>\n",
       "    <tr>\n",
       "      <th>0</th>\n",
       "      <td>1</td>\n",
       "      <td>Steven Maddock</td>\n",
       "      <td>First and last speech</td>\n",
       "      <td>0.0</td>\n",
       "      <td>0.0</td>\n",
       "      <td>1.0</td>\n",
       "      <td>0.0</td>\n",
       "      <td>0.0</td>\n",
       "      <td>1</td>\n",
       "      <td>21</td>\n",
       "    </tr>\n",
       "    <tr>\n",
       "      <th>1</th>\n",
       "      <td>2</td>\n",
       "      <td>max jelley</td>\n",
       "      <td>It would be soporificƒ??but those reforms made...</td>\n",
       "      <td>0.0</td>\n",
       "      <td>1.0</td>\n",
       "      <td>0.0</td>\n",
       "      <td>0.0</td>\n",
       "      <td>0.0</td>\n",
       "      <td>0</td>\n",
       "      <td>82</td>\n",
       "    </tr>\n",
       "    <tr>\n",
       "      <th>2</th>\n",
       "      <td>3</td>\n",
       "      <td>Iceman naz</td>\n",
       "      <td>Talk about reading from a script</td>\n",
       "      <td>0.0</td>\n",
       "      <td>1.0</td>\n",
       "      <td>0.0</td>\n",
       "      <td>0.0</td>\n",
       "      <td>0.0</td>\n",
       "      <td>0</td>\n",
       "      <td>32</td>\n",
       "    </tr>\n",
       "    <tr>\n",
       "      <th>3</th>\n",
       "      <td>4</td>\n",
       "      <td>Billy Leen</td>\n",
       "      <td>This didnt age well</td>\n",
       "      <td>0.0</td>\n",
       "      <td>1.0</td>\n",
       "      <td>0.0</td>\n",
       "      <td>0.0</td>\n",
       "      <td>0.0</td>\n",
       "      <td>0</td>\n",
       "      <td>19</td>\n",
       "    </tr>\n",
       "    <tr>\n",
       "      <th>4</th>\n",
       "      <td>5</td>\n",
       "      <td>Selin YŽñlmaz</td>\n",
       "      <td>look my sweetheart .</td>\n",
       "      <td>0.0</td>\n",
       "      <td>0.0</td>\n",
       "      <td>0.0</td>\n",
       "      <td>1.0</td>\n",
       "      <td>0.0</td>\n",
       "      <td>1</td>\n",
       "      <td>20</td>\n",
       "    </tr>\n",
       "    <tr>\n",
       "      <th>...</th>\n",
       "      <td>...</td>\n",
       "      <td>...</td>\n",
       "      <td>...</td>\n",
       "      <td>...</td>\n",
       "      <td>...</td>\n",
       "      <td>...</td>\n",
       "      <td>...</td>\n",
       "      <td>...</td>\n",
       "      <td>...</td>\n",
       "      <td>...</td>\n",
       "    </tr>\n",
       "    <tr>\n",
       "      <th>694</th>\n",
       "      <td>695</td>\n",
       "      <td>sean smith ronsen</td>\n",
       "      <td>She will do wonderful as prime Minister may Go...</td>\n",
       "      <td>0.0</td>\n",
       "      <td>0.0</td>\n",
       "      <td>0.0</td>\n",
       "      <td>1.0</td>\n",
       "      <td>0.0</td>\n",
       "      <td>1</td>\n",
       "      <td>58</td>\n",
       "    </tr>\n",
       "    <tr>\n",
       "      <th>695</th>\n",
       "      <td>696</td>\n",
       "      <td>Liam Hackett</td>\n",
       "      <td>If he existed he wouldn&amp;#39;t be blessing her....</td>\n",
       "      <td>0.0</td>\n",
       "      <td>0.0</td>\n",
       "      <td>1.0</td>\n",
       "      <td>0.0</td>\n",
       "      <td>0.0</td>\n",
       "      <td>1</td>\n",
       "      <td>123</td>\n",
       "    </tr>\n",
       "    <tr>\n",
       "      <th>696</th>\n",
       "      <td>697</td>\n",
       "      <td>iiBus</td>\n",
       "      <td>Did she?</td>\n",
       "      <td>0.0</td>\n",
       "      <td>0.0</td>\n",
       "      <td>1.0</td>\n",
       "      <td>0.0</td>\n",
       "      <td>0.0</td>\n",
       "      <td>1</td>\n",
       "      <td>8</td>\n",
       "    </tr>\n",
       "    <tr>\n",
       "      <th>697</th>\n",
       "      <td>698</td>\n",
       "      <td>S L</td>\n",
       "      <td>Oh dear. Is anyone else hearing Jen from IT Cr...</td>\n",
       "      <td>0.0</td>\n",
       "      <td>0.0</td>\n",
       "      <td>0.0</td>\n",
       "      <td>0.0</td>\n",
       "      <td>1.0</td>\n",
       "      <td>1</td>\n",
       "      <td>57</td>\n",
       "    </tr>\n",
       "    <tr>\n",
       "      <th>698</th>\n",
       "      <td>699</td>\n",
       "      <td>Horizon 14</td>\n",
       "      <td>Inchallah amen ðŸ™ðŸ»</td>\n",
       "      <td>0.0</td>\n",
       "      <td>0.0</td>\n",
       "      <td>0.0</td>\n",
       "      <td>0.0</td>\n",
       "      <td>1.0</td>\n",
       "      <td>1</td>\n",
       "      <td>23</td>\n",
       "    </tr>\n",
       "  </tbody>\n",
       "</table>\n",
       "<p>699 rows × 10 columns</p>\n",
       "</div>"
      ],
      "text/plain": [
       "     S.No     Commentor Name  \\\n",
       "0       1     Steven Maddock   \n",
       "1       2         max jelley   \n",
       "2       3         Iceman naz   \n",
       "3       4         Billy Leen   \n",
       "4       5      Selin YŽñlmaz   \n",
       "..    ...                ...   \n",
       "694   695  sean smith ronsen   \n",
       "695   696       Liam Hackett   \n",
       "696   697              iiBus   \n",
       "697   698                S L   \n",
       "698   699         Horizon 14   \n",
       "\n",
       "                                               Comment  Dislike  Insulting  \\\n",
       "0                                First and last speech      0.0        0.0   \n",
       "1    It would be soporificƒ??but those reforms made...      0.0        1.0   \n",
       "2                     Talk about reading from a script      0.0        1.0   \n",
       "3                                  This didnt age well      0.0        1.0   \n",
       "4                                 look my sweetheart .      0.0        0.0   \n",
       "..                                                 ...      ...        ...   \n",
       "694  She will do wonderful as prime Minister may Go...      0.0        0.0   \n",
       "695  If he existed he wouldn&#39;t be blessing her....      0.0        0.0   \n",
       "696                                           Did she?      0.0        0.0   \n",
       "697  Oh dear. Is anyone else hearing Jen from IT Cr...      0.0        0.0   \n",
       "698                            Inchallah amen ðŸ™ðŸ»      0.0        0.0   \n",
       "\n",
       "     Neutral  Supporting  Meaningless  Class  CommentLength  \n",
       "0        1.0         0.0          0.0      1             21  \n",
       "1        0.0         0.0          0.0      0             82  \n",
       "2        0.0         0.0          0.0      0             32  \n",
       "3        0.0         0.0          0.0      0             19  \n",
       "4        0.0         1.0          0.0      1             20  \n",
       "..       ...         ...          ...    ...            ...  \n",
       "694      0.0         1.0          0.0      1             58  \n",
       "695      1.0         0.0          0.0      1            123  \n",
       "696      1.0         0.0          0.0      1              8  \n",
       "697      0.0         0.0          1.0      1             57  \n",
       "698      0.0         0.0          1.0      1             23  \n",
       "\n",
       "[699 rows x 10 columns]"
      ]
     },
     "execution_count": 5,
     "metadata": {},
     "output_type": "execute_result"
    }
   ],
   "source": [
    "df2"
   ]
  },
  {
   "cell_type": "code",
   "execution_count": 6,
   "id": "e7b62115",
   "metadata": {},
   "outputs": [
    {
     "data": {
      "text/plain": [
       "<seaborn.axisgrid.FacetGrid at 0x161b3f57370>"
      ]
     },
     "execution_count": 6,
     "metadata": {},
     "output_type": "execute_result"
    },
    {
     "data": {
      "image/png": "[encoded data removed]",
      "text/plain": [
       "<Figure size 432x216 with 2 Axes>"
      ]
     },
     "metadata": {
      "needs_background": "light"
     },
     "output_type": "display_data"
    }
   ],
   "source": [
    "import seaborn as sns\n",
    "import matplotlib.pyplot as plt\n",
    "graph = sns.FacetGrid(data=df2, col='Class')\n",
    "graph.map(plt.hist, 'CommentLength', bins=50)"
   ]
  },
  {
   "cell_type": "code",
   "execution_count": 7,
   "id": "79a1b91a",
   "metadata": {},
   "outputs": [
    {
     "data": {
      "text/plain": [
       "<AxesSubplot:xlabel='Class', ylabel='CommentLength'>"
      ]
     },
     "execution_count": 7,
     "metadata": {},
     "output_type": "execute_result"
    },
    {
     "data": {
      "image/png": "[encoded data removed]",
      "text/plain": [
       "<Figure size 432x288 with 1 Axes>"
      ]
     },
     "metadata": {
      "needs_background": "light"
     },
     "output_type": "display_data"
    }
   ],
   "source": [
    "sns.boxplot(x='Class', y='CommentLength', data=df2)"
   ]
  },
  {
   "cell_type": "code",
   "execution_count": 8,
   "id": "2fdea75b",
   "metadata": {},
   "outputs": [
    {
     "data": {
      "text/plain": [
       "<AxesSubplot:>"
      ]
     },
     "execution_count": 8,
     "metadata": {},
     "output_type": "execute_result"
    },
    {
     "data": {
      "image/png": "[encoded data removed]",
      "text/plain": [
       "<Figure size 432x288 with 1 Axes>"
      ]
     },
     "metadata": {
      "needs_background": "light"
     },
     "output_type": "display_data"
    }
   ],
   "source": [
    "dataset['Class'].hist()"
   ]
  },
  {
   "cell_type": "markdown",
   "id": "5c2a7996",
   "metadata": {},
   "source": [
    "# Data Pre-Processing"
   ]
  },
  {
   "cell_type": "code",
   "execution_count": 9,
   "id": "5c115674",
   "metadata": {},
   "outputs": [],
   "source": [
    "comment=df2.Comment"
   ]
  },
  {
   "cell_type": "code",
   "execution_count": 10,
   "id": "10733e45",
   "metadata": {},
   "outputs": [
    {
     "name": "stdout",
     "output_type": "stream",
     "text": [
      "                                             Comment  \\\n",
      "0                              First and last speech   \n",
      "1  It would be soporificƒ??but those reforms made...   \n",
      "2                   Talk about reading from a script   \n",
      "3                                This didnt age well   \n",
      "4                               look my sweetheart .   \n",
      "5        Say what you want but that podium goes hard   \n",
      "6                                               ????   \n",
      "7               Whay you dont talk and drogs Kellers   \n",
      "8  Watching your video never get me bored. But I ...   \n",
      "9  It&#39;s a good feeling when you&#39;re Invest...   \n",
      "\n",
      "                                  processed_comments  \n",
      "0                                  first last speech  \n",
      "1  would soporif reform made februari pretti cold...  \n",
      "2                                   talk read script  \n",
      "3                                     didnt age well  \n",
      "4                                    look sweetheart  \n",
      "5                           say want podium goe hard  \n",
      "6                                                     \n",
      "7                         whay dont talk drog keller  \n",
      "8  watch video never get bore recommend trust tra...  \n",
      "9  good feel invest get paid without scare worri ...  \n"
     ]
    }
   ],
   "source": [
    "## 1. Removal of punctuation and capitlization\n",
    "## 2. Tokenizing\n",
    "## 3. Removal of stopwords\n",
    "## 4. Stemming\n",
    "\n",
    "stopwords = nltk.corpus.stopwords.words(\"english\")\n",
    "\n",
    "#extending the stopwords to include other words used in YouTube such as reply etc.\n",
    "other_exclusions = [\"#ff\", \"ff\", \"rt\"]\n",
    "stopwords.extend(other_exclusions)\n",
    "stemmer = PorterStemmer()\n",
    "\n",
    "def preprocess(comment):  \n",
    "    \n",
    "    # removal of extra spaces\n",
    "    regex_pat = re.compile(r'\\s+')\n",
    "    comment_space = comment.str.replace(regex_pat, ' ')\n",
    "\n",
    "    # removal of @name[mention]\n",
    "    regex_pat = re.compile(r'@[\\w\\-]+')\n",
    "    comment_name = comment_space.str.replace(regex_pat, '')\n",
    "\n",
    "    # removal of links[https://abc.com]\n",
    "    giant_url_regex =  re.compile('http[s]?://(?:[a-zA-Z]|[0-9]|[$-_@.&+]|'\n",
    "            '[!*\\(\\),]|(?:%[0-9a-fA-F][0-9a-fA-F]))+')\n",
    "    comments = comment_name.str.replace(giant_url_regex, '')\n",
    "    \n",
    "    # removal of punctuations and numbers\n",
    "    punc_remove = comments.str.replace(\"[^a-zA-Z]\", \" \")\n",
    "    # remove whitespace with a single space\n",
    "    newcomment=punc_remove.str.replace(r'\\s+', ' ')\n",
    "    # remove leading and trailing whitespace\n",
    "    newcomment=newcomment.str.replace(r'^\\s+|\\s+?$','')\n",
    "    # replace normal numbers with numbr\n",
    "    newcomment=newcomment.str.replace(r'\\d+(\\.\\d+)?','numbr')\n",
    "    # removal of capitalization\n",
    "    comment_lower = newcomment.str.lower()\n",
    "    \n",
    "    # tokenizing\n",
    "    tokenized_comment = comment_lower.apply(lambda x: x.split())\n",
    "    \n",
    "    # removal of stopwords\n",
    "    tokenized_comment=  tokenized_comment.apply(lambda x: [item for item in x if item not in stopwords])\n",
    "    \n",
    "    # stemming of the commens\n",
    "    tokenized_comment = tokenized_comment.apply(lambda x: [stemmer.stem(i) for i in x]) \n",
    "    \n",
    "    for i in range(len(tokenized_comment)):\n",
    "        tokenized_comment[i] = ' '.join(tokenized_comment[i])\n",
    "        comments_p= tokenized_comment\n",
    "    \n",
    "    return comments_p\n",
    "\n",
    "processed_comments = preprocess(comment)   \n",
    "\n",
    "df2['processed_comments'] = processed_comments\n",
    "print(df2[[\"Comment\",\"processed_comments\"]].head(10))"
   ]
  },
  {
   "cell_type": "code",
   "execution_count": 11,
   "id": "c8cef2fd",
   "metadata": {},
   "outputs": [
    {
     "data": {
      "text/plain": [
       "<699x331 sparse matrix of type '<class 'numpy.float64'>'\n",
       "\twith 4643 stored elements in Compressed Sparse Row format>"
      ]
     },
     "execution_count": 11,
     "metadata": {},
     "output_type": "execute_result"
    }
   ],
   "source": [
    "#TF-IDF Features-F1\n",
    "# https://scikit-learn.org/stable/modules/generated/sklearn.feature_extraction.text.TfidfVectorizer.html\n",
    "tfidf_vectorizer = TfidfVectorizer(ngram_range=(1, 2),max_df=0.75, min_df=5, max_features=10000)\n",
    "\n",
    "# TF-IDF feature matrix\n",
    "tfidf = tfidf_vectorizer.fit_transform(df2['processed_comments'] )\n",
    "tfidf"
   ]
  },
  {
   "cell_type": "markdown",
   "id": "0c075437",
   "metadata": {},
   "source": [
    "# Logistic Regression "
   ]
  },
  {
   "cell_type": "code",
   "execution_count": 12,
   "id": "2fb90150",
   "metadata": {},
   "outputs": [
    {
     "name": "stdout",
     "output_type": "stream",
     "text": [
      "              precision    recall  f1-score   support\n",
      "\n",
      "           0       0.68      0.36      0.47        88\n",
      "           1       0.66      0.88      0.75       122\n",
      "\n",
      "    accuracy                           0.66       210\n",
      "   macro avg       0.67      0.62      0.61       210\n",
      "weighted avg       0.67      0.66      0.63       210\n",
      "\n",
      "Logistic Regression, Accuracy Score: 0.6619047619047619\n"
     ]
    }
   ],
   "source": [
    "X1 = tfidf\n",
    "y1= df2['Class'].astype(int)\n",
    "X_train_tfidf1, X_test_tfidf1, y_train1, y_test1 = train_test_split(X1, y1, random_state=42, test_size=0.3)\n",
    "model1 = LogisticRegression().fit(X_train_tfidf1,y_train1)\n",
    "y_preds1 = model1.predict(X_test_tfidf1)\n",
    "report1 = classification_report( y_test1, y_preds1 )\n",
    "print(report1)\n",
    "acc=accuracy_score(y_test1,y_preds1)\n",
    "print(\"Logistic Regression, Accuracy Score:\" , acc)"
   ]
  },
  {
   "cell_type": "markdown",
   "id": "cc841998",
   "metadata": {},
   "source": [
    "# Random Forest"
   ]
  },
  {
   "cell_type": "code",
   "execution_count": 13,
   "id": "0322f388",
   "metadata": {},
   "outputs": [
    {
     "name": "stdout",
     "output_type": "stream",
     "text": [
      "              precision    recall  f1-score   support\n",
      "\n",
      "           0       0.62      0.43      0.51        94\n",
      "           1       0.63      0.79      0.70       116\n",
      "\n",
      "    accuracy                           0.63       210\n",
      "   macro avg       0.63      0.61      0.60       210\n",
      "weighted avg       0.63      0.63      0.61       210\n",
      "\n",
      "Random Forest, Accuracy Score: 0.6285714285714286\n"
     ]
    }
   ],
   "source": [
    "X_train_tfidf2, X_test_tfidf2, y_train2, y_test2 = train_test_split(X1, y1, test_size=0.3)\n",
    "rf=RandomForestClassifier()\n",
    "rf.fit(X_train_tfidf2,y_train2)\n",
    "y_preds2 = rf.predict(X_test_tfidf2)\n",
    "acc1=accuracy_score(y_test2,y_preds2)\n",
    "report2 = classification_report( y_test2, y_preds2 )\n",
    "print(report2)\n",
    "print(\"Random Forest, Accuracy Score:\",acc1)\n",
    "\n"
   ]
  },
  {
   "cell_type": "markdown",
   "id": "61b383a6",
   "metadata": {},
   "source": [
    "# Naive Bayes"
   ]
  },
  {
   "cell_type": "code",
   "execution_count": 14,
   "id": "a2c3e7fa",
   "metadata": {},
   "outputs": [
    {
     "name": "stdout",
     "output_type": "stream",
     "text": [
      "              precision    recall  f1-score   support\n",
      "\n",
      "           0       0.65      0.58      0.61        88\n",
      "           1       0.72      0.77      0.74       122\n",
      "\n",
      "    accuracy                           0.69       210\n",
      "   macro avg       0.68      0.68      0.68       210\n",
      "weighted avg       0.69      0.69      0.69       210\n",
      "\n",
      "Naive Bayes, Accuracy Score: 0.6904761904761905\n"
     ]
    }
   ],
   "source": [
    "X_train_tfidf3, X_test_tfidf3, y_train3, y_test3 = train_test_split(X1.toarray(), y1, random_state=42, test_size=0.3)\n",
    "nb=GaussianNB()\n",
    "nb.fit(X_train_tfidf3,y_train3)\n",
    "y_preds3 = nb.predict(X_test_tfidf3)\n",
    "acc2=accuracy_score(y_test3,y_preds3)\n",
    "report3 = classification_report( y_test3, y_preds3 )\n",
    "print(report3)\n",
    "print(\"Naive Bayes, Accuracy Score:\",acc2)"
   ]
  },
  {
   "cell_type": "markdown",
   "id": "ccfdbf08",
   "metadata": {},
   "source": [
    "# Support Vector Machine"
   ]
  },
  {
   "cell_type": "code",
   "execution_count": 15,
   "id": "34d6b594",
   "metadata": {},
   "outputs": [
    {
     "name": "stdout",
     "output_type": "stream",
     "text": [
      "              precision    recall  f1-score   support\n",
      "\n",
      "           0       0.67      0.50      0.57        88\n",
      "           1       0.69      0.82      0.75       122\n",
      "\n",
      "    accuracy                           0.69       210\n",
      "   macro avg       0.68      0.66      0.66       210\n",
      "weighted avg       0.68      0.69      0.68       210\n",
      "\n",
      "SVM, Accuracy Score: 0.6857142857142857\n"
     ]
    }
   ],
   "source": [
    "support =LinearSVC(random_state=20)\n",
    "support.fit(X_train_tfidf1,y_train1)\n",
    "y_preds4 = support.predict(X_test_tfidf1)\n",
    "acc3=accuracy_score(y_test1,y_preds4)\n",
    "report4 = classification_report( y_test1, y_preds4 )\n",
    "print(report4)\n",
    "print(\"SVM, Accuracy Score:\" , acc3)"
   ]
  },
  {
   "cell_type": "markdown",
   "id": "5b7af654",
   "metadata": {},
   "source": [
    "# LSTM"
   ]
  },
  {
   "cell_type": "code",
   "execution_count": 16,
   "id": "28acddb0",
   "metadata": {},
   "outputs": [
    {
     "name": "stdout",
     "output_type": "stream",
     "text": [
      "Epoch 1/10\n",
      "18/18 [==============================] - 5s 96ms/step - loss: 0.6861 - accuracy: 0.5725\n",
      "Epoch 2/10\n",
      "18/18 [==============================] - 2s 102ms/step - loss: 0.6774 - accuracy: 0.5850\n",
      "Epoch 3/10\n",
      "18/18 [==============================] - 2s 94ms/step - loss: 0.6782 - accuracy: 0.5850\n",
      "Epoch 4/10\n",
      "18/18 [==============================] - 2s 88ms/step - loss: 0.6770 - accuracy: 0.5921\n",
      "Epoch 5/10\n",
      "18/18 [==============================] - 2s 92ms/step - loss: 0.6764 - accuracy: 0.6011\n",
      "Epoch 6/10\n",
      "18/18 [==============================] - 2s 88ms/step - loss: 0.6760 - accuracy: 0.6011\n",
      "Epoch 7/10\n",
      "18/18 [==============================] - 2s 97ms/step - loss: 0.6746 - accuracy: 0.6011\n",
      "Epoch 8/10\n",
      "18/18 [==============================] - 2s 93ms/step - loss: 0.6739 - accuracy: 0.6011\n",
      "Epoch 9/10\n",
      "18/18 [==============================] - 2s 96ms/step - loss: 0.6695 - accuracy: 0.6029\n",
      "Epoch 10/10\n",
      "18/18 [==============================] - 2s 107ms/step - loss: 0.6673 - accuracy: 0.6047\n",
      " Test accuracy: 0.5785714387893677\n"
     ]
    }
   ],
   "source": [
    "from keras.models import Sequential\n",
    "from keras.layers import Dense, LSTM, Embedding\n",
    "from keras.preprocessing.text import Tokenizer\n",
    "from tensorflow.keras.preprocessing.sequence import pad_sequences\n",
    "from sklearn.model_selection import train_test_split\n",
    "X = df2['Comment'].values\n",
    "y = df2['Class'].values\n",
    "X_train, X_test, y_train, y_test = train_test_split(X, y, test_size=0.2, random_state=42)\n",
    "\n",
    "tokenizer = Tokenizer(num_words=5000)\n",
    "tokenizer.fit_on_texts(X_train)\n",
    "X_train = tokenizer.texts_to_sequences(X_train)\n",
    "X_test = tokenizer.texts_to_sequences(X_test)\n",
    "vocab_size = len(tokenizer.word_index) + 1\n",
    "max_len = 100\n",
    "X_train = pad_sequences(X_train, padding='post', maxlen=max_len)\n",
    "X_test = pad_sequences(X_test, padding='post', maxlen=max_len)\n",
    "\n",
    "model = Sequential()\n",
    "model.add(Embedding(vocab_size, 32, input_length=max_len))\n",
    "model.add(LSTM(64, dropout=0.2, recurrent_dropout=0.2))\n",
    "model.add(Dense(1, activation='sigmoid'))\n",
    "model.compile(optimizer='adam', loss='binary_crossentropy', metrics=['accuracy'])\n",
    "\n",
    "model.fit(X_train, y_train, epochs=10, batch_size=32)\n",
    "score = model.evaluate(X_test, y_test, verbose=0)\n",
    "print(f' Test accuracy: {score[1]}')\n",
    "acc4 = score[1]"
   ]
  },
  {
   "cell_type": "markdown",
   "id": "addf793d",
   "metadata": {},
   "source": [
    "# Comparision "
   ]
  },
  {
   "cell_type": "code",
   "execution_count": 17,
   "id": "26e26b37",
   "metadata": {},
   "outputs": [
    {
     "data": {
      "image/png": "[encoded data removed]",
      "text/plain": [
       "<Figure size 432x288 with 1 Axes>"
      ]
     },
     "metadata": {
      "needs_background": "light"
     },
     "output_type": "display_data"
    }
   ],
   "source": [
    "objects = ('Logistic', 'RandomForest', 'Naive_bayes', 'SVM', 'LSTM')\n",
    "y_pos = np.arange(len(objects))\n",
    "performance = [acc,acc1,acc2,acc3,acc4]\n",
    "plt.bar(y_pos, performance, align='center', alpha=0.5)\n",
    "plt.xticks(y_pos, objects)\n",
    "plt.ylabel('Accuracy')\n",
    "plt.title('Algorithm Comparision for F1')\n",
    "plt.show()"
   ]
  },
  {
   "cell_type": "markdown",
   "id": "5bad1286",
   "metadata": {},
   "source": [
    "# Class Labels for Naive Bayes and LSTM"
   ]
  },
  {
   "cell_type": "code",
   "execution_count": null,
   "id": "eb4edf23",
   "metadata": {},
   "outputs": [],
   "source": []
  },
  {
   "cell_type": "code",
   "execution_count": 49,
   "id": "42aa56f3",
   "metadata": {},
   "outputs": [
    {
     "name": "stdout",
     "output_type": "stream",
     "text": [
      "Class frequency: Counter({1: 131, 0: 79})\n"
     ]
    }
   ],
   "source": [
    "# Importing required libraries\n",
    "from sklearn.model_selection import train_test_split\n",
    "from sklearn.feature_extraction.text import TfidfVectorizer\n",
    "from sklearn.linear_model import LogisticRegression\n",
    "from collections import Counter\n",
    "\n",
    "X_train_tfidf3, X_test_tfidf3, y_train3, y_test3 = train_test_split(X1.toarray(), y1, random_state=42, test_size=0.3)\n",
    "nb=GaussianNB()\n",
    "nb.fit(X_train_tfidf3,y_train3)\n",
    "y_preds3 = nb.predict(X_test_tfidf3)\n",
    "acc2=accuracy_score(y_test3,y_preds3)\n",
    "report3 = classification_report( y_test3, y_preds3 )\n",
    "\n",
    "y_preds3 = nb.predict(X_test_tfidf3)\n",
    "# Converting the predicted class frequency to integers\n",
    "y_preds3 = [int(round(x)) for x in y_preds3]\n",
    "\n",
    "# Calculating individual class frequency\n",
    "class_freq1 = Counter(y_preds3)\n",
    "print(f\"Class frequency: {class_freq1}\")\n"
   ]
  },
  {
   "cell_type": "code",
   "execution_count": 50,
   "id": "706ee195",
   "metadata": {},
   "outputs": [
    {
     "data": {
      "text/plain": [
       "Counter({'Hatred': 79, 'Non-Hatred': 131})"
      ]
     },
     "execution_count": 50,
     "metadata": {},
     "output_type": "execute_result"
    }
   ],
   "source": [
    "\n",
    "class_freq1[\"Hatred\"] = class_freq1.pop(0)\n",
    "class_freq1[\"Non-Hatred\"] = class_freq1.pop(1)\n",
    "\n",
    "class_freq1"
   ]
  },
  {
   "cell_type": "code",
   "execution_count": 51,
   "id": "cc5bf1cd",
   "metadata": {},
   "outputs": [
    {
     "name": "stdout",
     "output_type": "stream",
     "text": [
      "Hatred : 0.3761904761904762\n",
      "Non-Hatred : 0.6238095238095238\n"
     ]
    }
   ],
   "source": [
    "s = sum(class_freq1.values())\n",
    "for i,j in class_freq1.items():\n",
    "    print(i +\" : \"+ str(j/s))"
   ]
  },
  {
   "cell_type": "code",
   "execution_count": 21,
   "id": "5730a0f5",
   "metadata": {},
   "outputs": [],
   "source": [
    "#LSTM "
   ]
  },
  {
   "cell_type": "code",
   "execution_count": 22,
   "id": "c4c6a28e",
   "metadata": {},
   "outputs": [
    {
     "name": "stdout",
     "output_type": "stream",
     "text": [
      "18/18 [==============================] - 1s 18ms/step\n",
      "Class counts for training set with size 0.8:\n",
      "Class 1: 327 \n",
      "Class 0: 232 \n"
     ]
    }
   ],
   "source": [
    "train_pred = model.predict(X_train)\n",
    "train_pred_classes = [int(round(x[0])) for x in train_pred]\n",
    "y_train = panda.Series(y_train)\n",
    "test_size=0.2\n",
    "\n",
    "# Count instances per class in training set\n",
    "class_counts = {}\n",
    "for i in range(len(train_pred_classes)):\n",
    "    if i >= len(y_train):\n",
    "        break\n",
    "    if y_train.iloc[i] not in class_counts:\n",
    "        class_counts[y_train.iloc[i]] = 0\n",
    "    class_counts[y_train.iloc[i]] += 1\n",
    "\n",
    "# Print class counts\n",
    "print(f\"Class counts for training set with size {1-test_size}:\")\n",
    "for class_label, count in class_counts.items():\n",
    "    print(f\"Class {class_label}: {count} \")"
   ]
  },
  {
   "cell_type": "code",
   "execution_count": 23,
   "id": "2e5538ef",
   "metadata": {},
   "outputs": [
    {
     "data": {
      "text/plain": [
       "{'Hatred': 232, 'Non-Hatred': 327}"
      ]
     },
     "execution_count": 23,
     "metadata": {},
     "output_type": "execute_result"
    }
   ],
   "source": [
    "ls = {}\n",
    "for class_label, count in class_counts.items():\n",
    "    ls[class_label] = count\n",
    "ls[\"Hatred\"] = ls.pop(0)\n",
    "ls[\"Non-Hatred\"] = ls.pop(1)\n",
    "\n",
    "ls"
   ]
  },
  {
   "cell_type": "code",
   "execution_count": 24,
   "id": "07976997",
   "metadata": {},
   "outputs": [
    {
     "name": "stdout",
     "output_type": "stream",
     "text": [
      "Hatred : 0.4150268336314848\n",
      "Non-Hatred : 0.5849731663685152\n"
     ]
    }
   ],
   "source": [
    "s1 = sum(ls.values())\n",
    "for i,j in ls.items():\n",
    "    print(i +\" : \"+ str(j/s1))"
   ]
  },
  {
   "cell_type": "markdown",
   "id": "d611ef3a",
   "metadata": {},
   "source": [
    "# Laoding Dataset(Rishi-Sunak)"
   ]
  },
  {
   "cell_type": "code",
   "execution_count": 25,
   "id": "5c6c9ecd",
   "metadata": {},
   "outputs": [
    {
     "data": {
      "text/html": [
       "<div>\n",
       "<style scoped>\n",
       "    .dataframe tbody tr th:only-of-type {\n",
       "        vertical-align: middle;\n",
       "    }\n",
       "\n",
       "    .dataframe tbody tr th {\n",
       "        vertical-align: top;\n",
       "    }\n",
       "\n",
       "    .dataframe thead th {\n",
       "        text-align: right;\n",
       "    }\n",
       "</style>\n",
       "<table border=\"1\" class=\"dataframe\">\n",
       "  <thead>\n",
       "    <tr style=\"text-align: right;\">\n",
       "      <th></th>\n",
       "      <th>S.No</th>\n",
       "      <th>Commentor name</th>\n",
       "      <th>Comment</th>\n",
       "      <th>Dislike</th>\n",
       "      <th>Insulting</th>\n",
       "      <th>Neutral</th>\n",
       "      <th>Supporting</th>\n",
       "      <th>Meaningless</th>\n",
       "      <th>Class</th>\n",
       "    </tr>\n",
       "  </thead>\n",
       "  <tbody>\n",
       "    <tr>\n",
       "      <th>0</th>\n",
       "      <td>1</td>\n",
       "      <td>TK-224</td>\n",
       "      <td>Ah, English politics. Where everyone hates the...</td>\n",
       "      <td>1.0</td>\n",
       "      <td>NaN</td>\n",
       "      <td>NaN</td>\n",
       "      <td>NaN</td>\n",
       "      <td>NaN</td>\n",
       "      <td>0</td>\n",
       "    </tr>\n",
       "    <tr>\n",
       "      <th>1</th>\n",
       "      <td>2</td>\n",
       "      <td>Sonu Singh Nirwan</td>\n",
       "      <td>Black</td>\n",
       "      <td>NaN</td>\n",
       "      <td>NaN</td>\n",
       "      <td>NaN</td>\n",
       "      <td>NaN</td>\n",
       "      <td>1.0</td>\n",
       "      <td>1</td>\n",
       "    </tr>\n",
       "    <tr>\n",
       "      <th>2</th>\n",
       "      <td>3</td>\n",
       "      <td>Sonu Singh Nirwan</td>\n",
       "      <td>Tell me your political problm</td>\n",
       "      <td>NaN</td>\n",
       "      <td>NaN</td>\n",
       "      <td>NaN</td>\n",
       "      <td>NaN</td>\n",
       "      <td>1.0</td>\n",
       "      <td>1</td>\n",
       "    </tr>\n",
       "    <tr>\n",
       "      <th>3</th>\n",
       "      <td>4</td>\n",
       "      <td>Sonu Singh Nirwan</td>\n",
       "      <td>Best off luck 2gethr 4ever</td>\n",
       "      <td>NaN</td>\n",
       "      <td>NaN</td>\n",
       "      <td>NaN</td>\n",
       "      <td>1.0</td>\n",
       "      <td>NaN</td>\n",
       "      <td>1</td>\n",
       "    </tr>\n",
       "    <tr>\n",
       "      <th>4</th>\n",
       "      <td>5</td>\n",
       "      <td>GUERRIANDO &amp; MOCHILIOANDO</td>\n",
       "      <td>He  is Indian? OMG</td>\n",
       "      <td>NaN</td>\n",
       "      <td>NaN</td>\n",
       "      <td>1.0</td>\n",
       "      <td>NaN</td>\n",
       "      <td>NaN</td>\n",
       "      <td>1</td>\n",
       "    </tr>\n",
       "    <tr>\n",
       "      <th>...</th>\n",
       "      <td>...</td>\n",
       "      <td>...</td>\n",
       "      <td>...</td>\n",
       "      <td>...</td>\n",
       "      <td>...</td>\n",
       "      <td>...</td>\n",
       "      <td>...</td>\n",
       "      <td>...</td>\n",
       "      <td>...</td>\n",
       "    </tr>\n",
       "    <tr>\n",
       "      <th>144</th>\n",
       "      <td>145</td>\n",
       "      <td>Gwynfryn Evans</td>\n",
       "      <td>Something else occurs to me in addition to my ...</td>\n",
       "      <td>NaN</td>\n",
       "      <td>NaN</td>\n",
       "      <td>1.0</td>\n",
       "      <td>NaN</td>\n",
       "      <td>NaN</td>\n",
       "      <td>1</td>\n",
       "    </tr>\n",
       "    <tr>\n",
       "      <th>145</th>\n",
       "      <td>146</td>\n",
       "      <td>Gwynfryn Evans</td>\n",
       "      <td>I am extremely disappointed by a speech delive...</td>\n",
       "      <td>1.0</td>\n",
       "      <td>NaN</td>\n",
       "      <td>NaN</td>\n",
       "      <td>NaN</td>\n",
       "      <td>NaN</td>\n",
       "      <td>0</td>\n",
       "    </tr>\n",
       "    <tr>\n",
       "      <th>146</th>\n",
       "      <td>147</td>\n",
       "      <td>Chris James</td>\n",
       "      <td>UK will be a third world country if this carri...</td>\n",
       "      <td>NaN</td>\n",
       "      <td>1.0</td>\n",
       "      <td>NaN</td>\n",
       "      <td>NaN</td>\n",
       "      <td>NaN</td>\n",
       "      <td>0</td>\n",
       "    </tr>\n",
       "    <tr>\n",
       "      <th>147</th>\n",
       "      <td>148</td>\n",
       "      <td>Peter Jolliffe</td>\n",
       "      <td>I am kinda fed up with listening to millionair...</td>\n",
       "      <td>NaN</td>\n",
       "      <td>NaN</td>\n",
       "      <td>1.0</td>\n",
       "      <td>NaN</td>\n",
       "      <td>NaN</td>\n",
       "      <td>1</td>\n",
       "    </tr>\n",
       "    <tr>\n",
       "      <th>148</th>\n",
       "      <td>149</td>\n",
       "      <td>H</td>\n",
       "      <td>Can someone summarise in bullet points what he...</td>\n",
       "      <td>1.0</td>\n",
       "      <td>NaN</td>\n",
       "      <td>NaN</td>\n",
       "      <td>NaN</td>\n",
       "      <td>NaN</td>\n",
       "      <td>0</td>\n",
       "    </tr>\n",
       "  </tbody>\n",
       "</table>\n",
       "<p>149 rows × 9 columns</p>\n",
       "</div>"
      ],
      "text/plain": [
       "     S.No             Commentor name  \\\n",
       "0       1                     TK-224   \n",
       "1       2          Sonu Singh Nirwan   \n",
       "2       3          Sonu Singh Nirwan   \n",
       "3       4          Sonu Singh Nirwan   \n",
       "4       5  GUERRIANDO & MOCHILIOANDO   \n",
       "..    ...                        ...   \n",
       "144   145             Gwynfryn Evans   \n",
       "145   146             Gwynfryn Evans   \n",
       "146   147                Chris James   \n",
       "147   148             Peter Jolliffe   \n",
       "148   149                          H   \n",
       "\n",
       "                                               Comment  Dislike  Insulting  \\\n",
       "0    Ah, English politics. Where everyone hates the...      1.0        NaN   \n",
       "1                                                Black      NaN        NaN   \n",
       "2                        Tell me your political problm      NaN        NaN   \n",
       "3                           Best off luck 2gethr 4ever      NaN        NaN   \n",
       "4                                   He  is Indian? OMG      NaN        NaN   \n",
       "..                                                 ...      ...        ...   \n",
       "144  Something else occurs to me in addition to my ...      NaN        NaN   \n",
       "145  I am extremely disappointed by a speech delive...      1.0        NaN   \n",
       "146  UK will be a third world country if this carri...      NaN        1.0   \n",
       "147  I am kinda fed up with listening to millionair...      NaN        NaN   \n",
       "148  Can someone summarise in bullet points what he...      1.0        NaN   \n",
       "\n",
       "     Neutral  Supporting  Meaningless   Class  \n",
       "0        NaN         NaN          NaN       0  \n",
       "1        NaN         NaN          1.0       1  \n",
       "2        NaN         NaN          1.0       1  \n",
       "3        NaN         1.0          NaN       1  \n",
       "4        1.0         NaN          NaN       1  \n",
       "..       ...         ...          ...     ...  \n",
       "144      1.0         NaN          NaN       1  \n",
       "145      NaN         NaN          NaN       0  \n",
       "146      NaN         NaN          NaN       0  \n",
       "147      1.0         NaN          NaN       1  \n",
       "148      NaN         NaN          NaN       0  \n",
       "\n",
       "[149 rows x 9 columns]"
      ]
     },
     "execution_count": 25,
     "metadata": {},
     "output_type": "execute_result"
    }
   ],
   "source": [
    "dataset = panda.read_csv('F:/Mini Project/rishi_fin.csv')\n",
    "df3=dataset.head(149)\n",
    "df3"
   ]
  },
  {
   "cell_type": "code",
   "execution_count": 26,
   "id": "754a0529",
   "metadata": {},
   "outputs": [
    {
     "data": {
      "text/html": [
       "<div>\n",
       "<style scoped>\n",
       "    .dataframe tbody tr th:only-of-type {\n",
       "        vertical-align: middle;\n",
       "    }\n",
       "\n",
       "    .dataframe tbody tr th {\n",
       "        vertical-align: top;\n",
       "    }\n",
       "\n",
       "    .dataframe thead th {\n",
       "        text-align: right;\n",
       "    }\n",
       "</style>\n",
       "<table border=\"1\" class=\"dataframe\">\n",
       "  <thead>\n",
       "    <tr style=\"text-align: right;\">\n",
       "      <th></th>\n",
       "      <th>S.No</th>\n",
       "      <th>Commentor name</th>\n",
       "      <th>Comment</th>\n",
       "      <th>Dislike</th>\n",
       "      <th>Insulting</th>\n",
       "      <th>Neutral</th>\n",
       "      <th>Supporting</th>\n",
       "      <th>Meaningless</th>\n",
       "      <th>Class</th>\n",
       "    </tr>\n",
       "  </thead>\n",
       "  <tbody>\n",
       "    <tr>\n",
       "      <th>0</th>\n",
       "      <td>1</td>\n",
       "      <td>TK-224</td>\n",
       "      <td>Ah, English politics. Where everyone hates the...</td>\n",
       "      <td>1.0</td>\n",
       "      <td>0.0</td>\n",
       "      <td>0.0</td>\n",
       "      <td>0.0</td>\n",
       "      <td>0.0</td>\n",
       "      <td>0</td>\n",
       "    </tr>\n",
       "    <tr>\n",
       "      <th>1</th>\n",
       "      <td>2</td>\n",
       "      <td>Sonu Singh Nirwan</td>\n",
       "      <td>Black</td>\n",
       "      <td>0.0</td>\n",
       "      <td>0.0</td>\n",
       "      <td>0.0</td>\n",
       "      <td>0.0</td>\n",
       "      <td>1.0</td>\n",
       "      <td>1</td>\n",
       "    </tr>\n",
       "    <tr>\n",
       "      <th>2</th>\n",
       "      <td>3</td>\n",
       "      <td>Sonu Singh Nirwan</td>\n",
       "      <td>Tell me your political problm</td>\n",
       "      <td>0.0</td>\n",
       "      <td>0.0</td>\n",
       "      <td>0.0</td>\n",
       "      <td>0.0</td>\n",
       "      <td>1.0</td>\n",
       "      <td>1</td>\n",
       "    </tr>\n",
       "    <tr>\n",
       "      <th>3</th>\n",
       "      <td>4</td>\n",
       "      <td>Sonu Singh Nirwan</td>\n",
       "      <td>Best off luck 2gethr 4ever</td>\n",
       "      <td>0.0</td>\n",
       "      <td>0.0</td>\n",
       "      <td>0.0</td>\n",
       "      <td>1.0</td>\n",
       "      <td>0.0</td>\n",
       "      <td>1</td>\n",
       "    </tr>\n",
       "    <tr>\n",
       "      <th>4</th>\n",
       "      <td>5</td>\n",
       "      <td>GUERRIANDO &amp; MOCHILIOANDO</td>\n",
       "      <td>He  is Indian? OMG</td>\n",
       "      <td>0.0</td>\n",
       "      <td>0.0</td>\n",
       "      <td>1.0</td>\n",
       "      <td>0.0</td>\n",
       "      <td>0.0</td>\n",
       "      <td>1</td>\n",
       "    </tr>\n",
       "    <tr>\n",
       "      <th>...</th>\n",
       "      <td>...</td>\n",
       "      <td>...</td>\n",
       "      <td>...</td>\n",
       "      <td>...</td>\n",
       "      <td>...</td>\n",
       "      <td>...</td>\n",
       "      <td>...</td>\n",
       "      <td>...</td>\n",
       "      <td>...</td>\n",
       "    </tr>\n",
       "    <tr>\n",
       "      <th>144</th>\n",
       "      <td>145</td>\n",
       "      <td>Gwynfryn Evans</td>\n",
       "      <td>Something else occurs to me in addition to my ...</td>\n",
       "      <td>0.0</td>\n",
       "      <td>0.0</td>\n",
       "      <td>1.0</td>\n",
       "      <td>0.0</td>\n",
       "      <td>0.0</td>\n",
       "      <td>1</td>\n",
       "    </tr>\n",
       "    <tr>\n",
       "      <th>145</th>\n",
       "      <td>146</td>\n",
       "      <td>Gwynfryn Evans</td>\n",
       "      <td>I am extremely disappointed by a speech delive...</td>\n",
       "      <td>1.0</td>\n",
       "      <td>0.0</td>\n",
       "      <td>0.0</td>\n",
       "      <td>0.0</td>\n",
       "      <td>0.0</td>\n",
       "      <td>0</td>\n",
       "    </tr>\n",
       "    <tr>\n",
       "      <th>146</th>\n",
       "      <td>147</td>\n",
       "      <td>Chris James</td>\n",
       "      <td>UK will be a third world country if this carri...</td>\n",
       "      <td>0.0</td>\n",
       "      <td>1.0</td>\n",
       "      <td>0.0</td>\n",
       "      <td>0.0</td>\n",
       "      <td>0.0</td>\n",
       "      <td>0</td>\n",
       "    </tr>\n",
       "    <tr>\n",
       "      <th>147</th>\n",
       "      <td>148</td>\n",
       "      <td>Peter Jolliffe</td>\n",
       "      <td>I am kinda fed up with listening to millionair...</td>\n",
       "      <td>0.0</td>\n",
       "      <td>0.0</td>\n",
       "      <td>1.0</td>\n",
       "      <td>0.0</td>\n",
       "      <td>0.0</td>\n",
       "      <td>1</td>\n",
       "    </tr>\n",
       "    <tr>\n",
       "      <th>148</th>\n",
       "      <td>149</td>\n",
       "      <td>H</td>\n",
       "      <td>Can someone summarise in bullet points what he...</td>\n",
       "      <td>1.0</td>\n",
       "      <td>0.0</td>\n",
       "      <td>0.0</td>\n",
       "      <td>0.0</td>\n",
       "      <td>0.0</td>\n",
       "      <td>0</td>\n",
       "    </tr>\n",
       "  </tbody>\n",
       "</table>\n",
       "<p>149 rows × 9 columns</p>\n",
       "</div>"
      ],
      "text/plain": [
       "     S.No             Commentor name  \\\n",
       "0       1                     TK-224   \n",
       "1       2          Sonu Singh Nirwan   \n",
       "2       3          Sonu Singh Nirwan   \n",
       "3       4          Sonu Singh Nirwan   \n",
       "4       5  GUERRIANDO & MOCHILIOANDO   \n",
       "..    ...                        ...   \n",
       "144   145             Gwynfryn Evans   \n",
       "145   146             Gwynfryn Evans   \n",
       "146   147                Chris James   \n",
       "147   148             Peter Jolliffe   \n",
       "148   149                          H   \n",
       "\n",
       "                                               Comment  Dislike  Insulting  \\\n",
       "0    Ah, English politics. Where everyone hates the...      1.0        0.0   \n",
       "1                                                Black      0.0        0.0   \n",
       "2                        Tell me your political problm      0.0        0.0   \n",
       "3                           Best off luck 2gethr 4ever      0.0        0.0   \n",
       "4                                   He  is Indian? OMG      0.0        0.0   \n",
       "..                                                 ...      ...        ...   \n",
       "144  Something else occurs to me in addition to my ...      0.0        0.0   \n",
       "145  I am extremely disappointed by a speech delive...      1.0        0.0   \n",
       "146  UK will be a third world country if this carri...      0.0        1.0   \n",
       "147  I am kinda fed up with listening to millionair...      0.0        0.0   \n",
       "148  Can someone summarise in bullet points what he...      1.0        0.0   \n",
       "\n",
       "     Neutral  Supporting  Meaningless   Class  \n",
       "0        0.0         0.0          0.0       0  \n",
       "1        0.0         0.0          1.0       1  \n",
       "2        0.0         0.0          1.0       1  \n",
       "3        0.0         1.0          0.0       1  \n",
       "4        1.0         0.0          0.0       1  \n",
       "..       ...         ...          ...     ...  \n",
       "144      1.0         0.0          0.0       1  \n",
       "145      0.0         0.0          0.0       0  \n",
       "146      0.0         0.0          0.0       0  \n",
       "147      1.0         0.0          0.0       1  \n",
       "148      0.0         0.0          0.0       0  \n",
       "\n",
       "[149 rows x 9 columns]"
      ]
     },
     "execution_count": 26,
     "metadata": {},
     "output_type": "execute_result"
    }
   ],
   "source": [
    "df4 = df3.fillna(0)\n",
    "df4"
   ]
  },
  {
   "cell_type": "code",
   "execution_count": 27,
   "id": "25ede64f",
   "metadata": {},
   "outputs": [
    {
     "name": "stdout",
     "output_type": "stream",
     "text": [
      "   S.No             Commentor name  \\\n",
      "0     1                     TK-224   \n",
      "1     2          Sonu Singh Nirwan   \n",
      "2     3          Sonu Singh Nirwan   \n",
      "3     4          Sonu Singh Nirwan   \n",
      "4     5  GUERRIANDO & MOCHILIOANDO   \n",
      "\n",
      "                                             Comment  Dislike  Insulting  \\\n",
      "0  Ah, English politics. Where everyone hates the...      1.0        0.0   \n",
      "1                                              Black      0.0        0.0   \n",
      "2                      Tell me your political problm      0.0        0.0   \n",
      "3                         Best off luck 2gethr 4ever      0.0        0.0   \n",
      "4                                 He  is Indian? OMG      0.0        0.0   \n",
      "\n",
      "   Neutral  Supporting  Meaningless   Class  CommentLength  \n",
      "0      0.0         0.0          0.0       0             67  \n",
      "1      0.0         0.0          1.0       1              5  \n",
      "2      0.0         0.0          1.0       1             29  \n",
      "3      0.0         1.0          0.0       1             26  \n",
      "4      1.0         0.0          0.0       1             18  \n"
     ]
    }
   ],
   "source": [
    "df4['CommentLength'] = df4['Comment'].apply(len)\n",
    "print(df4.head())"
   ]
  },
  {
   "cell_type": "code",
   "execution_count": 28,
   "id": "a144df89",
   "metadata": {},
   "outputs": [
    {
     "data": {
      "text/html": [
       "<div>\n",
       "<style scoped>\n",
       "    .dataframe tbody tr th:only-of-type {\n",
       "        vertical-align: middle;\n",
       "    }\n",
       "\n",
       "    .dataframe tbody tr th {\n",
       "        vertical-align: top;\n",
       "    }\n",
       "\n",
       "    .dataframe thead th {\n",
       "        text-align: right;\n",
       "    }\n",
       "</style>\n",
       "<table border=\"1\" class=\"dataframe\">\n",
       "  <thead>\n",
       "    <tr style=\"text-align: right;\">\n",
       "      <th></th>\n",
       "      <th>S.No</th>\n",
       "      <th>Commentor name</th>\n",
       "      <th>Comment</th>\n",
       "      <th>Dislike</th>\n",
       "      <th>Insulting</th>\n",
       "      <th>Neutral</th>\n",
       "      <th>Supporting</th>\n",
       "      <th>Meaningless</th>\n",
       "      <th>Class</th>\n",
       "      <th>CommentLength</th>\n",
       "    </tr>\n",
       "  </thead>\n",
       "  <tbody>\n",
       "    <tr>\n",
       "      <th>0</th>\n",
       "      <td>1</td>\n",
       "      <td>TK-224</td>\n",
       "      <td>Ah, English politics. Where everyone hates the...</td>\n",
       "      <td>1.0</td>\n",
       "      <td>0.0</td>\n",
       "      <td>0.0</td>\n",
       "      <td>0.0</td>\n",
       "      <td>0.0</td>\n",
       "      <td>0</td>\n",
       "      <td>67</td>\n",
       "    </tr>\n",
       "    <tr>\n",
       "      <th>1</th>\n",
       "      <td>2</td>\n",
       "      <td>Sonu Singh Nirwan</td>\n",
       "      <td>Black</td>\n",
       "      <td>0.0</td>\n",
       "      <td>0.0</td>\n",
       "      <td>0.0</td>\n",
       "      <td>0.0</td>\n",
       "      <td>1.0</td>\n",
       "      <td>1</td>\n",
       "      <td>5</td>\n",
       "    </tr>\n",
       "    <tr>\n",
       "      <th>2</th>\n",
       "      <td>3</td>\n",
       "      <td>Sonu Singh Nirwan</td>\n",
       "      <td>Tell me your political problm</td>\n",
       "      <td>0.0</td>\n",
       "      <td>0.0</td>\n",
       "      <td>0.0</td>\n",
       "      <td>0.0</td>\n",
       "      <td>1.0</td>\n",
       "      <td>1</td>\n",
       "      <td>29</td>\n",
       "    </tr>\n",
       "    <tr>\n",
       "      <th>3</th>\n",
       "      <td>4</td>\n",
       "      <td>Sonu Singh Nirwan</td>\n",
       "      <td>Best off luck 2gethr 4ever</td>\n",
       "      <td>0.0</td>\n",
       "      <td>0.0</td>\n",
       "      <td>0.0</td>\n",
       "      <td>1.0</td>\n",
       "      <td>0.0</td>\n",
       "      <td>1</td>\n",
       "      <td>26</td>\n",
       "    </tr>\n",
       "    <tr>\n",
       "      <th>4</th>\n",
       "      <td>5</td>\n",
       "      <td>GUERRIANDO &amp; MOCHILIOANDO</td>\n",
       "      <td>He  is Indian? OMG</td>\n",
       "      <td>0.0</td>\n",
       "      <td>0.0</td>\n",
       "      <td>1.0</td>\n",
       "      <td>0.0</td>\n",
       "      <td>0.0</td>\n",
       "      <td>1</td>\n",
       "      <td>18</td>\n",
       "    </tr>\n",
       "    <tr>\n",
       "      <th>...</th>\n",
       "      <td>...</td>\n",
       "      <td>...</td>\n",
       "      <td>...</td>\n",
       "      <td>...</td>\n",
       "      <td>...</td>\n",
       "      <td>...</td>\n",
       "      <td>...</td>\n",
       "      <td>...</td>\n",
       "      <td>...</td>\n",
       "      <td>...</td>\n",
       "    </tr>\n",
       "    <tr>\n",
       "      <th>144</th>\n",
       "      <td>145</td>\n",
       "      <td>Gwynfryn Evans</td>\n",
       "      <td>Something else occurs to me in addition to my ...</td>\n",
       "      <td>0.0</td>\n",
       "      <td>0.0</td>\n",
       "      <td>1.0</td>\n",
       "      <td>0.0</td>\n",
       "      <td>0.0</td>\n",
       "      <td>1</td>\n",
       "      <td>174</td>\n",
       "    </tr>\n",
       "    <tr>\n",
       "      <th>145</th>\n",
       "      <td>146</td>\n",
       "      <td>Gwynfryn Evans</td>\n",
       "      <td>I am extremely disappointed by a speech delive...</td>\n",
       "      <td>1.0</td>\n",
       "      <td>0.0</td>\n",
       "      <td>0.0</td>\n",
       "      <td>0.0</td>\n",
       "      <td>0.0</td>\n",
       "      <td>0</td>\n",
       "      <td>281</td>\n",
       "    </tr>\n",
       "    <tr>\n",
       "      <th>146</th>\n",
       "      <td>147</td>\n",
       "      <td>Chris James</td>\n",
       "      <td>UK will be a third world country if this carri...</td>\n",
       "      <td>0.0</td>\n",
       "      <td>1.0</td>\n",
       "      <td>0.0</td>\n",
       "      <td>0.0</td>\n",
       "      <td>0.0</td>\n",
       "      <td>0</td>\n",
       "      <td>55</td>\n",
       "    </tr>\n",
       "    <tr>\n",
       "      <th>147</th>\n",
       "      <td>148</td>\n",
       "      <td>Peter Jolliffe</td>\n",
       "      <td>I am kinda fed up with listening to millionair...</td>\n",
       "      <td>0.0</td>\n",
       "      <td>0.0</td>\n",
       "      <td>1.0</td>\n",
       "      <td>0.0</td>\n",
       "      <td>0.0</td>\n",
       "      <td>1</td>\n",
       "      <td>157</td>\n",
       "    </tr>\n",
       "    <tr>\n",
       "      <th>148</th>\n",
       "      <td>149</td>\n",
       "      <td>H</td>\n",
       "      <td>Can someone summarise in bullet points what he...</td>\n",
       "      <td>1.0</td>\n",
       "      <td>0.0</td>\n",
       "      <td>0.0</td>\n",
       "      <td>0.0</td>\n",
       "      <td>0.0</td>\n",
       "      <td>0</td>\n",
       "      <td>144</td>\n",
       "    </tr>\n",
       "  </tbody>\n",
       "</table>\n",
       "<p>149 rows × 10 columns</p>\n",
       "</div>"
      ],
      "text/plain": [
       "     S.No             Commentor name  \\\n",
       "0       1                     TK-224   \n",
       "1       2          Sonu Singh Nirwan   \n",
       "2       3          Sonu Singh Nirwan   \n",
       "3       4          Sonu Singh Nirwan   \n",
       "4       5  GUERRIANDO & MOCHILIOANDO   \n",
       "..    ...                        ...   \n",
       "144   145             Gwynfryn Evans   \n",
       "145   146             Gwynfryn Evans   \n",
       "146   147                Chris James   \n",
       "147   148             Peter Jolliffe   \n",
       "148   149                          H   \n",
       "\n",
       "                                               Comment  Dislike  Insulting  \\\n",
       "0    Ah, English politics. Where everyone hates the...      1.0        0.0   \n",
       "1                                                Black      0.0        0.0   \n",
       "2                        Tell me your political problm      0.0        0.0   \n",
       "3                           Best off luck 2gethr 4ever      0.0        0.0   \n",
       "4                                   He  is Indian? OMG      0.0        0.0   \n",
       "..                                                 ...      ...        ...   \n",
       "144  Something else occurs to me in addition to my ...      0.0        0.0   \n",
       "145  I am extremely disappointed by a speech delive...      1.0        0.0   \n",
       "146  UK will be a third world country if this carri...      0.0        1.0   \n",
       "147  I am kinda fed up with listening to millionair...      0.0        0.0   \n",
       "148  Can someone summarise in bullet points what he...      1.0        0.0   \n",
       "\n",
       "     Neutral  Supporting  Meaningless   Class  CommentLength  \n",
       "0        0.0         0.0          0.0       0             67  \n",
       "1        0.0         0.0          1.0       1              5  \n",
       "2        0.0         0.0          1.0       1             29  \n",
       "3        0.0         1.0          0.0       1             26  \n",
       "4        1.0         0.0          0.0       1             18  \n",
       "..       ...         ...          ...     ...            ...  \n",
       "144      1.0         0.0          0.0       1            174  \n",
       "145      0.0         0.0          0.0       0            281  \n",
       "146      0.0         0.0          0.0       0             55  \n",
       "147      1.0         0.0          0.0       1            157  \n",
       "148      0.0         0.0          0.0       0            144  \n",
       "\n",
       "[149 rows x 10 columns]"
      ]
     },
     "execution_count": 28,
     "metadata": {},
     "output_type": "execute_result"
    }
   ],
   "source": [
    "df4"
   ]
  },
  {
   "cell_type": "code",
   "execution_count": 29,
   "id": "9c3e3545",
   "metadata": {},
   "outputs": [
    {
     "data": {
      "text/plain": [
       "<seaborn.axisgrid.FacetGrid at 0x161d56f3190>"
      ]
     },
     "execution_count": 29,
     "metadata": {},
     "output_type": "execute_result"
    },
    {
     "data": {
      "image/png": "[encoded data removed]",
      "text/plain": [
       "<Figure size 432x216 with 2 Axes>"
      ]
     },
     "metadata": {
      "needs_background": "light"
     },
     "output_type": "display_data"
    }
   ],
   "source": [
    "import seaborn as sns\n",
    "import matplotlib.pyplot as plt\n",
    "graph = sns.FacetGrid(data=df4, col=' Class')\n",
    "graph.map(plt.hist, 'CommentLength', bins=50)"
   ]
  },
  {
   "cell_type": "code",
   "execution_count": 30,
   "id": "eb3cfe8a",
   "metadata": {},
   "outputs": [
    {
     "data": {
      "text/plain": [
       "<AxesSubplot:>"
      ]
     },
     "execution_count": 30,
     "metadata": {},
     "output_type": "execute_result"
    },
    {
     "data": {
      "image/png": "[encoded data removed]",
      "text/plain": [
       "<Figure size 432x288 with 1 Axes>"
      ]
     },
     "metadata": {
      "needs_background": "light"
     },
     "output_type": "display_data"
    }
   ],
   "source": [
    "df4[' Class'].hist()"
   ]
  },
  {
   "cell_type": "markdown",
   "id": "1564fb01",
   "metadata": {},
   "source": [
    "\n",
    "\n",
    "# Data PreProcessing"
   ]
  },
  {
   "cell_type": "code",
   "execution_count": 31,
   "id": "7a09ce93",
   "metadata": {},
   "outputs": [],
   "source": [
    "comment=df4.Comment\n"
   ]
  },
  {
   "cell_type": "code",
   "execution_count": 32,
   "id": "e9c3a277",
   "metadata": {},
   "outputs": [
    {
     "name": "stdout",
     "output_type": "stream",
     "text": [
      "                                             Comment  \\\n",
      "0  Ah, English politics. Where everyone hates the...   \n",
      "1                                              Black   \n",
      "2                      Tell me your political problm   \n",
      "3                         Best off luck 2gethr 4ever   \n",
      "4                                 He  is Indian? OMG   \n",
      "5                        His accent touched my heart   \n",
      "6  Deliver this the only word politicians like to...   \n",
      "7             Lot of talking but no action as usual!   \n",
      "8     Ritchy WEFƒ??s ƒ??plansƒ?? all come from Klaus   \n",
      "9              And what do we do with those we have?   \n",
      "\n",
      "                               processed_comments  \n",
      "0  ah english polit everyon hate politician equal  \n",
      "1                                           black  \n",
      "2                               tell polit problm  \n",
      "3                            best luck gethr ever  \n",
      "4                                      indian omg  \n",
      "5                              accent touch heart  \n",
      "6                  deliv word politician like use  \n",
      "7                           lot talk action usual  \n",
      "8                       ritchi wef plan come klau  \n",
      "9                                                  \n"
     ]
    }
   ],
   "source": [
    "## 1. Removal of punctuation and capitlization\n",
    "## 2. Tokenizing\n",
    "## 3. Removal of stopwords\n",
    "## 4. Stemming\n",
    "\n",
    "stopwords = nltk.corpus.stopwords.words(\"english\")\n",
    "\n",
    "#extending the stopwords to include other words used in twitter such as reply etc.\n",
    "other_exclusions = [\"#ff\", \"ff\", \"rt\"]\n",
    "stopwords.extend(other_exclusions)\n",
    "stemmer = PorterStemmer()\n",
    "\n",
    "def preprocess(comment):  \n",
    "    \n",
    "    # removal of extra spaces\n",
    "    regex_pat = re.compile(r'\\s+')\n",
    "    comment_space = comment.str.replace(regex_pat, ' ')\n",
    "\n",
    "    # removal of @name[mention]\n",
    "    regex_pat = re.compile(r'@[\\w\\-]+')\n",
    "    comment_name = comment_space.str.replace(regex_pat, '')\n",
    "\n",
    "    # removal of links[https://abc.com]\n",
    "    giant_url_regex =  re.compile('http[s]?://(?:[a-zA-Z]|[0-9]|[$-_@.&+]|'\n",
    "            '[!*\\(\\),]|(?:%[0-9a-fA-F][0-9a-fA-F]))+')\n",
    "    comments = comment_name.str.replace(giant_url_regex, '')\n",
    "    \n",
    "    # removal of punctuations and numbers\n",
    "    punc_remove = comments.str.replace(\"[^a-zA-Z]\", \" \")\n",
    "    # remove whitespace with a single space\n",
    "    newcomment=punc_remove.str.replace(r'\\s+', ' ')\n",
    "    # remove leading and trailing whitespace\n",
    "    newcomment=newcomment.str.replace(r'^\\s+|\\s+?$','')\n",
    "    # replace normal numbers with numbr\n",
    "    newcomment=newcomment.str.replace(r'\\d+(\\.\\d+)?','numbr')\n",
    "    # removal of capitalization\n",
    "    comment_lower = newcomment.str.lower()\n",
    "    \n",
    "    # tokenizing\n",
    "    tokenized_comment = comment_lower.apply(lambda x: x.split())\n",
    "    \n",
    "    # removal of stopwords\n",
    "    tokenized_comment=  tokenized_comment.apply(lambda x: [item for item in x if item not in stopwords])\n",
    "    \n",
    "    # stemming of the commens\n",
    "    tokenized_comment = tokenized_comment.apply(lambda x: [stemmer.stem(i) for i in x]) \n",
    "    \n",
    "    for i in range(len(tokenized_comment)):\n",
    "        tokenized_comment[i] = ' '.join(tokenized_comment[i])\n",
    "        comments_p= tokenized_comment\n",
    "    \n",
    "    return comments_p\n",
    "\n",
    "processed_comments = preprocess(comment)   \n",
    "\n",
    "df4['processed_comments'] = processed_comments\n",
    "print(df4[[\"Comment\",\"processed_comments\"]].head(10))"
   ]
  },
  {
   "cell_type": "code",
   "execution_count": 33,
   "id": "3264e98c",
   "metadata": {},
   "outputs": [
    {
     "data": {
      "text/plain": [
       "<149x42 sparse matrix of type '<class 'numpy.float64'>'\n",
       "\twith 305 stored elements in Compressed Sparse Row format>"
      ]
     },
     "execution_count": 33,
     "metadata": {},
     "output_type": "execute_result"
    }
   ],
   "source": [
    "#TF-IDF Features-F1\n",
    "# https://scikit-learn.org/stable/modules/generated/sklearn.feature_extraction.text.TfidfVectorizer.html\n",
    "tfidf_vectorizer = TfidfVectorizer(ngram_range=(1, 2),max_df=0.75, min_df=5, max_features=10000)\n",
    "\n",
    "# TF-IDF feature matrix\n",
    "tfidf5 = tfidf_vectorizer.fit_transform(df4['processed_comments'] )\n",
    "tfidf5"
   ]
  },
  {
   "cell_type": "markdown",
   "id": "23af8062",
   "metadata": {},
   "source": [
    "# Logistic Regression"
   ]
  },
  {
   "cell_type": "code",
   "execution_count": 34,
   "id": "23c22bf8",
   "metadata": {},
   "outputs": [
    {
     "name": "stdout",
     "output_type": "stream",
     "text": [
      "              precision    recall  f1-score   support\n",
      "\n",
      "           0       0.59      0.62      0.61        16\n",
      "           1       0.79      0.76      0.77        29\n",
      "\n",
      "    accuracy                           0.71        45\n",
      "   macro avg       0.69      0.69      0.69        45\n",
      "weighted avg       0.72      0.71      0.71        45\n",
      "\n",
      "Logistic Regression, Accuracy Score: 0.7111111111111111\n"
     ]
    }
   ],
   "source": [
    "X2 = tfidf5\n",
    "y2= df4[' Class'].astype(int)\n",
    "X_train_tfidf5, X_test_tfidf5, y_train5, y_test5 = train_test_split(X2, y2, random_state=38, test_size=0.3)\n",
    "model5 = LogisticRegression().fit(X_train_tfidf5,y_train5)\n",
    "y_preds5 = model5.predict(X_test_tfidf5)\n",
    "report5 = classification_report( y_test5,y_preds5 )\n",
    "print(report5)\n",
    "acc=accuracy_score(y_test5,y_preds5)\n",
    "print(\"Logistic Regression, Accuracy Score:\",acc)"
   ]
  },
  {
   "cell_type": "markdown",
   "id": "6003d0ba",
   "metadata": {},
   "source": [
    "# Naive Bayes"
   ]
  },
  {
   "cell_type": "code",
   "execution_count": 35,
   "id": "7e28c99e",
   "metadata": {},
   "outputs": [
    {
     "name": "stdout",
     "output_type": "stream",
     "text": [
      "              precision    recall  f1-score   support\n",
      "\n",
      "           0       0.55      0.89      0.68        19\n",
      "           1       0.86      0.46      0.60        26\n",
      "\n",
      "    accuracy                           0.64        45\n",
      "   macro avg       0.70      0.68      0.64        45\n",
      "weighted avg       0.73      0.64      0.63        45\n",
      "\n",
      "Naive Bayes, Accuracy Score: 0.6444444444444445\n"
     ]
    }
   ],
   "source": [
    "X_train_tfidf5, X_test_tfidf5, y_train5, y_test5 = train_test_split(X2.toarray(), y2, random_state=42, test_size=0.3)\n",
    "nb=GaussianNB()\n",
    "nb.fit(X_train_tfidf5,y_train5)\n",
    "y_preds5 = nb.predict(X_test_tfidf5)\n",
    "acc2=accuracy_score(y_test5,y_preds5)\n",
    "report3 = classification_report( y_test5, y_preds5 )\n",
    "print(report3)\n",
    "print(\"Naive Bayes, Accuracy Score:\",acc2)"
   ]
  },
  {
   "cell_type": "markdown",
   "id": "9f2bee39",
   "metadata": {},
   "source": [
    "# Random Forest"
   ]
  },
  {
   "cell_type": "code",
   "execution_count": 36,
   "id": "d9700ee2",
   "metadata": {},
   "outputs": [
    {
     "name": "stdout",
     "output_type": "stream",
     "text": [
      "              precision    recall  f1-score   support\n",
      "\n",
      "           0       0.57      0.36      0.44        22\n",
      "           1       0.55      0.74      0.63        23\n",
      "\n",
      "    accuracy                           0.56        45\n",
      "   macro avg       0.56      0.55      0.54        45\n",
      "weighted avg       0.56      0.56      0.54        45\n",
      "\n",
      "Random Forest, Accuracy Score: 0.5555555555555556\n"
     ]
    }
   ],
   "source": [
    "X_train_tfidf5, X_test_tfidf5, y_train5, y_test5 = train_test_split(X2, y2, test_size=0.3)\n",
    "rf=RandomForestClassifier()\n",
    "rf.fit(X_train_tfidf5,y_train5)\n",
    "y_preds5 = rf.predict(X_test_tfidf5)\n",
    "acc1=accuracy_score(y_test5,y_preds5)\n",
    "report2 = classification_report( y_test5, y_preds5 )\n",
    "print(report2)\n",
    "print(\"Random Forest, Accuracy Score:\",acc1)"
   ]
  },
  {
   "cell_type": "markdown",
   "id": "06a28f21",
   "metadata": {},
   "source": [
    "# Support Vector Machine"
   ]
  },
  {
   "cell_type": "code",
   "execution_count": 37,
   "id": "4590ee07",
   "metadata": {},
   "outputs": [
    {
     "name": "stdout",
     "output_type": "stream",
     "text": [
      "              precision    recall  f1-score   support\n",
      "\n",
      "           0       0.67      0.45      0.54        22\n",
      "           1       0.60      0.78      0.68        23\n",
      "\n",
      "    accuracy                           0.62        45\n",
      "   macro avg       0.63      0.62      0.61        45\n",
      "weighted avg       0.63      0.62      0.61        45\n",
      "\n",
      "SVM, Accuracy Score: 0.6222222222222222\n"
     ]
    }
   ],
   "source": [
    "support =LinearSVC(random_state=20)\n",
    "support.fit(X_train_tfidf5,y_train5)\n",
    "y_preds4 = support.predict(X_test_tfidf5)\n",
    "acc3=accuracy_score(y_test5,y_preds4)\n",
    "report4 = classification_report( y_test5, y_preds4 )\n",
    "print(report4)\n",
    "print(\"SVM, Accuracy Score:\" , acc3)"
   ]
  },
  {
   "cell_type": "code",
   "execution_count": null,
   "id": "3f3eab18",
   "metadata": {},
   "outputs": [],
   "source": []
  },
  {
   "cell_type": "markdown",
   "id": "d2f662be",
   "metadata": {},
   "source": [
    "# LSTM "
   ]
  },
  {
   "cell_type": "code",
   "execution_count": 38,
   "id": "3d42a693",
   "metadata": {},
   "outputs": [
    {
     "name": "stdout",
     "output_type": "stream",
     "text": [
      "Epoch 1/10\n",
      "4/4 [==============================] - 3s 95ms/step - loss: 0.6933 - accuracy: 0.4958\n",
      "Epoch 2/10\n",
      "4/4 [==============================] - 0s 89ms/step - loss: 0.6926 - accuracy: 0.5210\n",
      "Epoch 3/10\n",
      "4/4 [==============================] - 0s 82ms/step - loss: 0.6932 - accuracy: 0.5210\n",
      "Epoch 4/10\n",
      "4/4 [==============================] - 0s 102ms/step - loss: 0.6925 - accuracy: 0.5210\n",
      "Epoch 5/10\n",
      "4/4 [==============================] - 0s 87ms/step - loss: 0.6930 - accuracy: 0.5210\n",
      "Epoch 6/10\n",
      "4/4 [==============================] - 0s 85ms/step - loss: 0.6921 - accuracy: 0.5210\n",
      "Epoch 7/10\n",
      "4/4 [==============================] - 0s 83ms/step - loss: 0.6918 - accuracy: 0.5210\n",
      "Epoch 8/10\n",
      "4/4 [==============================] - 0s 87ms/step - loss: 0.6915 - accuracy: 0.5210\n",
      "Epoch 9/10\n",
      "4/4 [==============================] - 0s 83ms/step - loss: 0.6917 - accuracy: 0.5210\n",
      "Epoch 10/10\n",
      "4/4 [==============================] - 0s 83ms/step - loss: 0.6909 - accuracy: 0.5210\n",
      " Test accuracy: 0.6666666865348816\n"
     ]
    }
   ],
   "source": [
    "from keras.models import Sequential\n",
    "from keras.layers import Dense, LSTM, Embedding\n",
    "from keras.preprocessing.text import Tokenizer\n",
    "from tensorflow.keras.preprocessing.sequence import pad_sequences\n",
    "from sklearn.model_selection import train_test_split\n",
    "X = df4['Comment'].values\n",
    "y = df4[' Class'].values\n",
    "X_train, X_test, y_train, y_test = train_test_split(X, y, test_size=0.2, random_state=42)\n",
    "tokenizer = Tokenizer(num_words=5000)\n",
    "tokenizer.fit_on_texts(X_train)\n",
    "X_train = tokenizer.texts_to_sequences(X_train)\n",
    "X_test = tokenizer.texts_to_sequences(X_test)\n",
    "vocab_size = len(tokenizer.word_index) + 1\n",
    "max_len = 100\n",
    "X_train = pad_sequences(X_train, padding='post', maxlen=max_len)\n",
    "X_test = pad_sequences(X_test, padding='post', maxlen=max_len)\n",
    "\n",
    "model = Sequential()\n",
    "model.add(Embedding(vocab_size, 32, input_length=max_len))\n",
    "model.add(LSTM(64, dropout=0.2, recurrent_dropout=0.2))\n",
    "model.add(Dense(1, activation='sigmoid'))\n",
    "model.compile(optimizer='adam', loss='binary_crossentropy', metrics=['accuracy'])\n",
    "\n",
    "model.fit(X_train, y_train, epochs=10, batch_size=32)\n",
    "score = model.evaluate(X_test, y_test, verbose=0)\n",
    "print(f' Test accuracy: {score[1]}')\n",
    "\n",
    "acc4 = score[1]"
   ]
  },
  {
   "cell_type": "code",
   "execution_count": null,
   "id": "b3ec1ecb",
   "metadata": {},
   "outputs": [],
   "source": []
  },
  {
   "cell_type": "code",
   "execution_count": 39,
   "id": "c1492952",
   "metadata": {},
   "outputs": [
    {
     "data": {
      "image/png": "[encoded data removed]",
      "text/plain": [
       "<Figure size 432x288 with 1 Axes>"
      ]
     },
     "metadata": {
      "needs_background": "light"
     },
     "output_type": "display_data"
    }
   ],
   "source": [
    "objects = ('Logistic', 'RandomForest', 'Naive_bayes', 'SVM', 'LSTM')\n",
    "y_pos = np.arange(len(objects))\n",
    "performance = [acc,acc1,acc2,acc3,acc4]\n",
    "plt.bar(y_pos, performance, align='center', alpha=0.5)\n",
    "plt.xticks(y_pos, objects)\n",
    "plt.ylabel('Accuracy')\n",
    "plt.title('Algorithm Comparision for F1')\n",
    "plt.show()"
   ]
  },
  {
   "cell_type": "code",
   "execution_count": null,
   "id": "a7a7469c",
   "metadata": {},
   "outputs": [],
   "source": []
  },
  {
   "cell_type": "markdown",
   "id": "2e62aa93",
   "metadata": {},
   "source": [
    "# Class Labels For Logistic Regression and LSTM"
   ]
  },
  {
   "cell_type": "code",
   "execution_count": 52,
   "id": "dc82a5bf",
   "metadata": {},
   "outputs": [
    {
     "name": "stdout",
     "output_type": "stream",
     "text": [
      "Class frequency: Counter({1: 28, 0: 17})\n"
     ]
    }
   ],
   "source": [
    "# Importing required libraries\n",
    "from sklearn.model_selection import train_test_split\n",
    "from sklearn.feature_extraction.text import TfidfVectorizer\n",
    "\n",
    "\n",
    "\n",
    "# Splitting data into training and testing datasets\n",
    "X2 = tfidf5\n",
    "y2= df4[' Class'].astype(int)\n",
    "X_train_tfidf5, X_test_tfidf5, y_train5, y_test5 = train_test_split(X2, y2, random_state=38, test_size=0.3)\n",
    "model5 = LogisticRegression().fit(X_train_tfidf5,y_train5)\n",
    "y_preds5 = model5.predict(X_test_tfidf5)\n",
    "# Converting the predicted class frequency to integers\n",
    "y_pred = [int(round(x)) for x in y_preds5]\n",
    "\n",
    "# Calculating individual class frequency\n",
    "class_freq2 = Counter(y_pred)\n",
    "print(f\"Class frequency: {class_freq2}\")"
   ]
  },
  {
   "cell_type": "code",
   "execution_count": 53,
   "id": "f81927e5",
   "metadata": {},
   "outputs": [
    {
     "data": {
      "text/plain": [
       "Counter({'Hatred': 17, 'Non-Hatred': 28})"
      ]
     },
     "execution_count": 53,
     "metadata": {},
     "output_type": "execute_result"
    }
   ],
   "source": [
    "class_freq2\n",
    "class_freq2[\"Hatred\"] = class_freq2.pop(0)\n",
    "class_freq2[\"Non-Hatred\"] = class_freq2.pop(1)\n",
    "\n",
    "class_freq2"
   ]
  },
  {
   "cell_type": "code",
   "execution_count": 54,
   "id": "c977e3d3",
   "metadata": {},
   "outputs": [
    {
     "name": "stdout",
     "output_type": "stream",
     "text": [
      "Hatred : 0.3761904761904762\n",
      "Non-Hatred : 0.6238095238095238\n"
     ]
    }
   ],
   "source": [
    "s = sum(class_freq1.values())\n",
    "for i,j in class_freq1.items():\n",
    "    print(i +\" : \"+ str(j/s))"
   ]
  },
  {
   "cell_type": "code",
   "execution_count": null,
   "id": "b7e40179",
   "metadata": {},
   "outputs": [],
   "source": []
  },
  {
   "cell_type": "code",
   "execution_count": null,
   "id": "65a00ed4",
   "metadata": {},
   "outputs": [],
   "source": []
  },
  {
   "cell_type": "code",
   "execution_count": 55,
   "id": "f268e5e7",
   "metadata": {},
   "outputs": [],
   "source": [
    "#Class Labels"
   ]
  },
  {
   "cell_type": "code",
   "execution_count": 56,
   "id": "9bb4432c",
   "metadata": {},
   "outputs": [
    {
     "name": "stdout",
     "output_type": "stream",
     "text": [
      "4/4 [==============================] - 0s 19ms/step\n",
      "Class counts for training set with size 0.8:\n",
      "Class 1: 61 \n",
      "Class 0: 58 \n"
     ]
    }
   ],
   "source": [
    "train_pred = model.predict(X_train)\n",
    "train_pred_classes = [int(round(x[0])) for x in train_pred]\n",
    "y_train = panda.Series(y_train)\n",
    "test_size=0.2\n",
    "\n",
    "# Count instances per class in training set\n",
    "class_counts = {}\n",
    "for i in range(len(train_pred_classes)):\n",
    "    if i >= len(y_train):\n",
    "        break\n",
    "    if y_train.iloc[i] not in class_counts:\n",
    "        class_counts[y_train.iloc[i]] = 0\n",
    "    class_counts[y_train.iloc[i]] += 1\n",
    "\n",
    "# Print class counts\n",
    "print(f\"Class counts for training set with size {1-test_size}:\")\n",
    "for class_label, count in class_counts.items():\n",
    "    print(f\"Class {class_label}: {count} \")"
   ]
  },
  {
   "cell_type": "code",
   "execution_count": 57,
   "id": "89cfad54",
   "metadata": {},
   "outputs": [
    {
     "name": "stdout",
     "output_type": "stream",
     "text": [
      "Hatred : 0.48739495798319327\n",
      "Non-Hatred : 0.5126050420168067\n"
     ]
    }
   ],
   "source": [
    "ls2 = {}\n",
    "for class_label, count in class_counts.items():\n",
    "    ls2[class_label] = count\n",
    "ls2[\"Hatred\"] = ls2.pop(0)\n",
    "ls2[\"Non-Hatred\"] =ls2.pop(1)\n",
    "\n",
    "s1 = sum(ls2.values())\n",
    "for i,j in ls2.items():\n",
    "    print(i +\" : \"+ str(j/s1))\n"
   ]
  },
  {
   "cell_type": "markdown",
   "id": "20622a99",
   "metadata": {},
   "source": [
    "# Evaluation of Hatredness using Pie chart"
   ]
  },
  {
   "cell_type": "code",
   "execution_count": 59,
   "id": "39da16ad",
   "metadata": {},
   "outputs": [
    {
     "data": {
      "image/png": "[encoded data removed]",
      "text/plain": [
       "<Figure size 432x288 with 1 Axes>"
      ]
     },
     "metadata": {},
     "output_type": "display_data"
    },
    {
     "data": {
      "image/png": "[encoded data removed]",
      "text/plain": [
       "<Figure size 432x288 with 1 Axes>"
      ]
     },
     "metadata": {},
     "output_type": "display_data"
    },
    {
     "data": {
      "image/png": "[encoded data removed]",
      "text/plain": [
       "<Figure size 432x288 with 1 Axes>"
      ]
     },
     "metadata": {},
     "output_type": "display_data"
    },
    {
     "data": {
      "image/png": "[encoded data removed]",
      "text/plain": [
       "<Figure size 432x288 with 1 Axes>"
      ]
     },
     "metadata": {},
     "output_type": "display_data"
    }
   ],
   "source": [
    "import matplotlib.pyplot as plt\n",
    "\n",
    "# class counts for each model\n",
    "model1_class_counts = class_freq1\n",
    "model2_class_counts = ls\n",
    "model3_class_counts = class_freq2\n",
    "model4_class_counts = ls2\n",
    "\n",
    "# plot pie chart\n",
    "fig, ax = plt.subplots()\n",
    "labels = ['Hatred','Non-Hatred']\n",
    "colors = ['#1f77b4', '#ff7f0e']\n",
    "ax.pie([model1_class_counts['Hatred'], model1_class_counts['Non-Hatred']],  labels=labels, colors=colors, autopct='%1.1f%%' )\n",
    "ax.set_title('Naive Bayes (Liz Truss)')\n",
    "ax.axis('equal')\n",
    "\n",
    "fig, ax = plt.subplots()\n",
    "ax.pie([model2_class_counts['Hatred'], model2_class_counts['Non-Hatred']],  labels=labels, colors=colors, autopct='%1.1f%%')\n",
    "ax.set_title('LSTM (Liz Truss)')\n",
    "ax.axis('equal')\n",
    "\n",
    "fig, ax = plt.subplots()\n",
    "ax.pie([model3_class_counts['Hatred'], model3_class_counts['Non-Hatred']],  labels=labels, colors=colors, autopct='%1.1f%%')\n",
    "ax.set_title('Logistic Regression (Rishi Sunak)')\n",
    "ax.axis('equal')\n",
    "\n",
    "fig, ax = plt.subplots()\n",
    "ax.pie([model4_class_counts['Hatred'], model4_class_counts['Non-Hatred']],  labels=labels, colors=colors, autopct='%1.1f%%')\n",
    "ax.set_title('LSTM (Rishi Sunak)')\n",
    "ax.axis('equal')\n",
    "\n",
    "plt.show()\n"
   ]
  },
  {
   "cell_type": "code",
   "execution_count": null,
   "id": "018f102b",
   "metadata": {},
   "outputs": [],
   "source": []
  }
 ],
 "metadata": {
  "kernelspec": {
   "display_name": "Python 3 (ipykernel)",
   "language": "python",
   "name": "python3"
  },
  "language_info": {
   "codemirror_mode": {
    "name": "ipython",
    "version": 3
   },
   "file_extension": ".py",
   "mimetype": "text/x-python",
   "name": "python",
   "nbconvert_exporter": "python",
   "pygments_lexer": "ipython3",
   "version": "3.9.12"
  }
 },
 "nbformat": 4,
 "nbformat_minor": 5
}
